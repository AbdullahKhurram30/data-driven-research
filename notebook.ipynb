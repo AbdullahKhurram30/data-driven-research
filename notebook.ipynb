{
 "cells": [
  {
   "cell_type": "code",
   "execution_count": 1,
   "metadata": {
    "vscode": {
     "languageId": "r"
    }
   },
   "outputs": [
    {
     "name": "stderr",
     "output_type": "stream",
     "text": [
      "── \u001b[1mAttaching core tidyverse packages\u001b[22m ──────────────────────── tidyverse 2.0.0 ──\n",
      "\u001b[32m✔\u001b[39m \u001b[34mdplyr    \u001b[39m 1.1.4     \u001b[32m✔\u001b[39m \u001b[34mreadr    \u001b[39m 2.1.5\n",
      "\u001b[32m✔\u001b[39m \u001b[34mforcats  \u001b[39m 1.0.0     \u001b[32m✔\u001b[39m \u001b[34mstringr  \u001b[39m 1.5.1\n",
      "\u001b[32m✔\u001b[39m \u001b[34mggplot2  \u001b[39m 3.5.0     \u001b[32m✔\u001b[39m \u001b[34mtibble   \u001b[39m 3.2.1\n",
      "\u001b[32m✔\u001b[39m \u001b[34mlubridate\u001b[39m 1.9.3     \u001b[32m✔\u001b[39m \u001b[34mtidyr    \u001b[39m 1.3.1\n",
      "\u001b[32m✔\u001b[39m \u001b[34mpurrr    \u001b[39m 1.0.2     \n",
      "── \u001b[1mConflicts\u001b[22m ────────────────────────────────────────── tidyverse_conflicts() ──\n",
      "\u001b[31m✖\u001b[39m \u001b[34mdplyr\u001b[39m::\u001b[32mfilter()\u001b[39m masks \u001b[34mstats\u001b[39m::filter()\n",
      "\u001b[31m✖\u001b[39m \u001b[34mdplyr\u001b[39m::\u001b[32mlag()\u001b[39m    masks \u001b[34mstats\u001b[39m::lag()\n",
      "\u001b[36mℹ\u001b[39m Use the conflicted package (\u001b[3m\u001b[34m<http://conflicted.r-lib.org/>\u001b[39m\u001b[23m) to force all conflicts to become errors\n"
     ]
    }
   ],
   "source": [
    "library(tidyverse)\n",
    "library(ggplot2)\n",
    "library(countrycode)"
   ]
  },
  {
   "cell_type": "code",
   "execution_count": 2,
   "metadata": {
    "vscode": {
     "languageId": "r"
    }
   },
   "outputs": [],
   "source": [
    "agriculture_land <- read.csv(\"agricultural_land_percentage.csv\")\n",
    "co2_emissions <- read.csv(\"co2_emissions_per_capita.csv\")\n",
    "forest_area <- read.csv(\"forest_area_percentage.csv\")\n",
    "methane_emissions <- read.csv(\"methane_emissions.csv\")\n",
    "nitrous_oxide_emissions <- read.csv(\"nitrous_oxide_emissions.csv\")\n",
    "renewable_energy_output <- read.csv(\"renewable_energy_output.csv\")\n",
    "school_enrollment_primary <- read.csv(\"school_enrollment_primary.csv\")\n",
    "school_enrollment_secondary <- read.csv(\"school_enrollment_secondary.csv\")\n",
    "urban_population <- read.csv(\"urban_population_percentage.csv\")"
   ]
  },
  {
   "cell_type": "code",
   "execution_count": 3,
   "metadata": {
    "vscode": {
     "languageId": "r"
    }
   },
   "outputs": [
    {
     "name": "stderr",
     "output_type": "stream",
     "text": [
      "Warning message:\n",
      "\"Some values were not matched unambiguously: Africa Eastern and Southern, Africa Western and Central, Arab World, Caribbean small states, Central Europe and the Baltics, Channel Islands, Early-demographic dividend, East Asia & Pacific, East Asia & Pacific (excluding high income), East Asia & Pacific (IDA & IBRD countries), Euro area, Europe & Central Asia, Europe & Central Asia (excluding high income), Europe & Central Asia (IDA & IBRD countries), European Union, Fragile and conflict affected situations, Heavily indebted poor countries (HIPC), High income, IBRD only, IDA & IBRD total, IDA blend, IDA only, IDA total, Kosovo, Late-demographic dividend, Latin America & Caribbean, Latin America & Caribbean (excluding high income), Latin America & the Caribbean (IDA & IBRD countries), Least developed countries: UN classification, Low & middle income, Low income, Lower middle income, Middle East & North Africa, Middle East & North Africa (excluding high income), Middle East & North Africa (IDA & IBRD countries), Middle income, North America, Not classified, OECD members, Other small states, Pacific island small states, Post-demographic dividend, Pre-demographic dividend, Small states, South Asia, South Asia (IDA & IBRD), Sub-Saharan Africa, Sub-Saharan Africa (excluding high income), Sub-Saharan Africa (IDA & IBRD countries), Upper middle income, World\n",
      "\"\n",
      "Warning message:\n",
      "\"Some values were not matched unambiguously: Africa Eastern and Southern, Africa Western and Central, Arab World, Caribbean small states, Central Europe and the Baltics, Channel Islands, Early-demographic dividend, East Asia & Pacific, East Asia & Pacific (excluding high income), East Asia & Pacific (IDA & IBRD countries), Euro area, Europe & Central Asia, Europe & Central Asia (excluding high income), Europe & Central Asia (IDA & IBRD countries), European Union, Fragile and conflict affected situations, Heavily indebted poor countries (HIPC), High income, IBRD only, IDA & IBRD total, IDA blend, IDA only, IDA total, Kosovo, Late-demographic dividend, Latin America & Caribbean, Latin America & Caribbean (excluding high income), Latin America & the Caribbean (IDA & IBRD countries), Least developed countries: UN classification, Low & middle income, Low income, Lower middle income, Middle East & North Africa, Middle East & North Africa (excluding high income), Middle East & North Africa (IDA & IBRD countries), Middle income, North America, Not classified, OECD members, Other small states, Pacific island small states, Post-demographic dividend, Pre-demographic dividend, Small states, South Asia, South Asia (IDA & IBRD), Sub-Saharan Africa, Sub-Saharan Africa (excluding high income), Sub-Saharan Africa (IDA & IBRD countries), Upper middle income, World\n",
      "\"\n",
      "Warning message:\n",
      "\"Some values were not matched unambiguously: Africa Eastern and Southern, Africa Western and Central, Arab World, Caribbean small states, Central Europe and the Baltics, Channel Islands, Early-demographic dividend, East Asia & Pacific, East Asia & Pacific (excluding high income), East Asia & Pacific (IDA & IBRD countries), Euro area, Europe & Central Asia, Europe & Central Asia (excluding high income), Europe & Central Asia (IDA & IBRD countries), European Union, Fragile and conflict affected situations, Heavily indebted poor countries (HIPC), High income, IBRD only, IDA & IBRD total, IDA blend, IDA only, IDA total, Kosovo, Late-demographic dividend, Latin America & Caribbean, Latin America & Caribbean (excluding high income), Latin America & the Caribbean (IDA & IBRD countries), Least developed countries: UN classification, Low & middle income, Low income, Lower middle income, Middle East & North Africa, Middle East & North Africa (excluding high income), Middle East & North Africa (IDA & IBRD countries), Middle income, North America, Not classified, OECD members, Other small states, Pacific island small states, Post-demographic dividend, Pre-demographic dividend, Small states, South Asia, South Asia (IDA & IBRD), Sub-Saharan Africa, Sub-Saharan Africa (excluding high income), Sub-Saharan Africa (IDA & IBRD countries), Upper middle income, World\n",
      "\"\n",
      "Warning message:\n",
      "\"Some values were not matched unambiguously: Africa Eastern and Southern, Africa Western and Central, Arab World, Caribbean small states, Central Europe and the Baltics, Channel Islands, Early-demographic dividend, East Asia & Pacific, East Asia & Pacific (excluding high income), East Asia & Pacific (IDA & IBRD countries), Euro area, Europe & Central Asia, Europe & Central Asia (excluding high income), Europe & Central Asia (IDA & IBRD countries), European Union, Fragile and conflict affected situations, Heavily indebted poor countries (HIPC), High income, IBRD only, IDA & IBRD total, IDA blend, IDA only, IDA total, Kosovo, Late-demographic dividend, Latin America & Caribbean, Latin America & Caribbean (excluding high income), Latin America & the Caribbean (IDA & IBRD countries), Least developed countries: UN classification, Low & middle income, Low income, Lower middle income, Middle East & North Africa, Middle East & North Africa (excluding high income), Middle East & North Africa (IDA & IBRD countries), Middle income, North America, Not classified, OECD members, Other small states, Pacific island small states, Post-demographic dividend, Pre-demographic dividend, Small states, South Asia, South Asia (IDA & IBRD), Sub-Saharan Africa, Sub-Saharan Africa (excluding high income), Sub-Saharan Africa (IDA & IBRD countries), Upper middle income, World\n",
      "\"\n",
      "Warning message:\n",
      "\"Some values were not matched unambiguously: Africa Eastern and Southern, Africa Western and Central, Arab World, Caribbean small states, Central Europe and the Baltics, Channel Islands, Early-demographic dividend, East Asia & Pacific, East Asia & Pacific (excluding high income), East Asia & Pacific (IDA & IBRD countries), Euro area, Europe & Central Asia, Europe & Central Asia (excluding high income), Europe & Central Asia (IDA & IBRD countries), European Union, Fragile and conflict affected situations, Heavily indebted poor countries (HIPC), High income, IBRD only, IDA & IBRD total, IDA blend, IDA only, IDA total, Kosovo, Late-demographic dividend, Latin America & Caribbean, Latin America & Caribbean (excluding high income), Latin America & the Caribbean (IDA & IBRD countries), Least developed countries: UN classification, Low & middle income, Low income, Lower middle income, Middle East & North Africa, Middle East & North Africa (excluding high income), Middle East & North Africa (IDA & IBRD countries), Middle income, North America, Not classified, OECD members, Other small states, Pacific island small states, Post-demographic dividend, Pre-demographic dividend, Small states, South Asia, South Asia (IDA & IBRD), Sub-Saharan Africa, Sub-Saharan Africa (excluding high income), Sub-Saharan Africa (IDA & IBRD countries), Upper middle income, World\n",
      "\"\n",
      "Warning message:\n",
      "\"Some values were not matched unambiguously: Africa Eastern and Southern, Africa Western and Central, Arab World, Caribbean small states, Central Europe and the Baltics, Channel Islands, Early-demographic dividend, East Asia & Pacific, East Asia & Pacific (excluding high income), East Asia & Pacific (IDA & IBRD countries), Euro area, Europe & Central Asia, Europe & Central Asia (excluding high income), Europe & Central Asia (IDA & IBRD countries), European Union, Fragile and conflict affected situations, Heavily indebted poor countries (HIPC), High income, IBRD only, IDA & IBRD total, IDA blend, IDA only, IDA total, Kosovo, Late-demographic dividend, Latin America & Caribbean, Latin America & Caribbean (excluding high income), Latin America & the Caribbean (IDA & IBRD countries), Least developed countries: UN classification, Low & middle income, Low income, Lower middle income, Middle East & North Africa, Middle East & North Africa (excluding high income), Middle East & North Africa (IDA & IBRD countries), Middle income, North America, Not classified, OECD members, Other small states, Pacific island small states, Post-demographic dividend, Pre-demographic dividend, Small states, South Asia, South Asia (IDA & IBRD), Sub-Saharan Africa, Sub-Saharan Africa (excluding high income), Sub-Saharan Africa (IDA & IBRD countries), Upper middle income, World\n",
      "\"\n",
      "Warning message:\n",
      "\"Some values were not matched unambiguously: Africa Eastern and Southern, Africa Western and Central, Arab World, Caribbean small states, Central Europe and the Baltics, Channel Islands, Early-demographic dividend, East Asia & Pacific, East Asia & Pacific (excluding high income), East Asia & Pacific (IDA & IBRD countries), Euro area, Europe & Central Asia, Europe & Central Asia (excluding high income), Europe & Central Asia (IDA & IBRD countries), European Union, Fragile and conflict affected situations, Heavily indebted poor countries (HIPC), High income, IBRD only, IDA & IBRD total, IDA blend, IDA only, IDA total, Kosovo, Late-demographic dividend, Latin America & Caribbean, Latin America & Caribbean (excluding high income), Latin America & the Caribbean (IDA & IBRD countries), Least developed countries: UN classification, Low & middle income, Low income, Lower middle income, Middle East & North Africa, Middle East & North Africa (excluding high income), Middle East & North Africa (IDA & IBRD countries), Middle income, North America, Not classified, OECD members, Other small states, Pacific island small states, Post-demographic dividend, Pre-demographic dividend, Small states, South Asia, South Asia (IDA & IBRD), Sub-Saharan Africa, Sub-Saharan Africa (excluding high income), Sub-Saharan Africa (IDA & IBRD countries), Upper middle income, World\n",
      "\"\n",
      "Warning message:\n",
      "\"Some values were not matched unambiguously: Africa Eastern and Southern, Africa Western and Central, Arab World, Caribbean small states, Central Europe and the Baltics, Channel Islands, Early-demographic dividend, East Asia & Pacific, East Asia & Pacific (excluding high income), East Asia & Pacific (IDA & IBRD countries), Euro area, Europe & Central Asia, Europe & Central Asia (excluding high income), Europe & Central Asia (IDA & IBRD countries), European Union, Fragile and conflict affected situations, Heavily indebted poor countries (HIPC), High income, IBRD only, IDA & IBRD total, IDA blend, IDA only, IDA total, Kosovo, Late-demographic dividend, Latin America & Caribbean, Latin America & Caribbean (excluding high income), Latin America & the Caribbean (IDA & IBRD countries), Least developed countries: UN classification, Low & middle income, Low income, Lower middle income, Middle East & North Africa, Middle East & North Africa (excluding high income), Middle East & North Africa (IDA & IBRD countries), Middle income, North America, Not classified, OECD members, Other small states, Pacific island small states, Post-demographic dividend, Pre-demographic dividend, Small states, South Asia, South Asia (IDA & IBRD), Sub-Saharan Africa, Sub-Saharan Africa (excluding high income), Sub-Saharan Africa (IDA & IBRD countries), Upper middle income, World\n",
      "\"\n",
      "Warning message:\n",
      "\"Some values were not matched unambiguously: Africa Eastern and Southern, Africa Western and Central, Arab World, Caribbean small states, Central Europe and the Baltics, Channel Islands, Early-demographic dividend, East Asia & Pacific, East Asia & Pacific (excluding high income), East Asia & Pacific (IDA & IBRD countries), Euro area, Europe & Central Asia, Europe & Central Asia (excluding high income), Europe & Central Asia (IDA & IBRD countries), European Union, Fragile and conflict affected situations, Heavily indebted poor countries (HIPC), High income, IBRD only, IDA & IBRD total, IDA blend, IDA only, IDA total, Kosovo, Late-demographic dividend, Latin America & Caribbean, Latin America & Caribbean (excluding high income), Latin America & the Caribbean (IDA & IBRD countries), Least developed countries: UN classification, Low & middle income, Low income, Lower middle income, Middle East & North Africa, Middle East & North Africa (excluding high income), Middle East & North Africa (IDA & IBRD countries), Middle income, North America, Not classified, OECD members, Other small states, Pacific island small states, Post-demographic dividend, Pre-demographic dividend, Small states, South Asia, South Asia (IDA & IBRD), Sub-Saharan Africa, Sub-Saharan Africa (excluding high income), Sub-Saharan Africa (IDA & IBRD countries), Upper middle income, World\n",
      "\"\n"
     ]
    }
   ],
   "source": [
    "# label countries according to their continent\n",
    "agriculture_land$continent <- countrycode(sourcevar = agriculture_land$Country.Name, origin = \"country.name\", destination = \"continent\")\n",
    "co2_emissions$continent <- countrycode(sourcevar = co2_emissions$Country.Name, origin = \"country.name\", destination = \"continent\")\n",
    "forest_area$continent <- countrycode(sourcevar = forest_area$Country.Name, origin = \"country.name\", destination = \"continent\")\n",
    "methane_emissions$continent <- countrycode(sourcevar = methane_emissions$Country.Name, origin = \"country.name\", destination = \"continent\")\n",
    "nitrous_oxide_emissions$continent <- countrycode(sourcevar = nitrous_oxide_emissions$Country.Name, origin = \"country.name\", destination = \"continent\")\n",
    "renewable_energy_output$continent <- countrycode(sourcevar = renewable_energy_output$Country.Name, origin = \"country.name\", destination = \"continent\")\n",
    "school_enrollment_primary$continent <- countrycode(sourcevar = school_enrollment_primary$Country.Name, origin = \"country.name\", destination = \"continent\")\n",
    "school_enrollment_secondary$continent <- countrycode(sourcevar = school_enrollment_secondary$Country.Name, origin = \"country.name\", destination = \"continent\")\n",
    "urban_population$continent <- countrycode(sourcevar = urban_population$Country.Name, origin = \"country.name\", destination = \"continent\")"
   ]
  },
  {
   "cell_type": "code",
   "execution_count": 4,
   "metadata": {
    "vscode": {
     "languageId": "r"
    }
   },
   "outputs": [
    {
     "name": "stderr",
     "output_type": "stream",
     "text": [
      "Warning message:\n",
      "\"\u001b[1m\u001b[22mThere was 1 warning in `summarise()`.\n",
      "\u001b[1m\u001b[22m\u001b[36mℹ\u001b[39m In argument: `across(X1961:X2022, mean, na.rm = TRUE)`.\n",
      "\u001b[36mℹ\u001b[39m In group 1: `continent = \"Africa\"`.\n",
      "Caused by warning:\n",
      "\u001b[1m\u001b[22m\u001b[33m!\u001b[39m The `...` argument of `across()` is deprecated as of dplyr 1.1.0.\n",
      "Supply arguments directly to `.fns` through an anonymous function instead.\n",
      "\n",
      "  # Previously\n",
      "  across(a:b, mean, na.rm = TRUE)\n",
      "\n",
      "  # Now\n",
      "  across(a:b, \\(x) mean(x, na.rm = TRUE))\"\n"
     ]
    }
   ],
   "source": [
    "# aggregate the data by continent\n",
    "agriculture <- agriculture_land %>%\n",
    "  group_by(continent) %>%\n",
    "  summarise(across(`X1961`:`X2022`, mean, na.rm = TRUE))\n",
    "co2 <- co2_emissions %>%\n",
    "  group_by(continent) %>%\n",
    "  summarise(across(`X1961`:`X2022`, mean, na.rm = TRUE))\n",
    "forest <- forest_area %>%\n",
    "  group_by(continent) %>%\n",
    "  summarise(across(`X1961`:`X2022`, mean, na.rm = TRUE))\n",
    "methane <- methane_emissions %>%\n",
    "  group_by(continent) %>%\n",
    "  summarise(across(`X1961`:`X2022`, mean, na.rm = TRUE))\n",
    "nitrous_oxide <- nitrous_oxide_emissions %>%\n",
    "  group_by(continent) %>%\n",
    "  summarise(across(`X1961`:`X2022`, mean, na.rm = TRUE))\n",
    "renewable_energy <- renewable_energy_output %>%\n",
    "  group_by(continent) %>%\n",
    "  summarise(across(`X1961`:`X2022`, mean, na.rm = TRUE))\n",
    "school_primary <- school_enrollment_primary %>%\n",
    "  group_by(continent) %>%\n",
    "  summarise(across(`X1961`:`X2022`, mean, na.rm = TRUE))\n",
    "school_secondary <- school_enrollment_secondary %>%\n",
    "  group_by(continent) %>%\n",
    "  summarise(across(`X1961`:`X2022`, mean, na.rm = TRUE))\n",
    "urban <- urban_population %>%\n",
    "  group_by(continent) %>%\n",
    "  summarise(across(`X1961`:`X2022`, mean, na.rm = TRUE))"
   ]
  },
  {
   "cell_type": "code",
   "execution_count": 5,
   "metadata": {
    "vscode": {
     "languageId": "r"
    }
   },
   "outputs": [],
   "source": [
    "# remove the continent \"NA\" from the data\n",
    "agriculture <- agriculture %>%\n",
    "  filter(continent != \"NA\")\n",
    "co2 <- co2 %>%\n",
    "    filter(continent != \"NA\")\n",
    "forest <- forest %>%\n",
    "    filter(continent != \"NA\")\n",
    "methane <- methane %>%\n",
    "    filter(continent != \"NA\")\n",
    "nitrous_oxide <- nitrous_oxide %>%\n",
    "    filter(continent != \"NA\")\n",
    "renewable_energy <- renewable_energy %>%\n",
    "    filter(continent != \"NA\")\n",
    "school_primary <- school_primary %>%\n",
    "    filter(continent != \"NA\")\n",
    "school_secondary <- school_secondary %>%\n",
    "    filter(continent != \"NA\")\n",
    "urban <- urban %>%\n",
    "    filter(continent != \"NA\")"
   ]
  },
  {
   "cell_type": "code",
   "execution_count": 6,
   "metadata": {
    "vscode": {
     "languageId": "r"
    }
   },
   "outputs": [],
   "source": [
    "# sum all the emissions to get the total emissions for each year by continent\n",
    "emissions <- data.frame(continent = methane$continent, X1961 = methane$X1961 + nitrous_oxide$X1961 + co2$X1961, X1962 = methane$X1962 + nitrous_oxide$X1962 + co2$X1962,\n",
    "                        X1963 = methane$X1963 + nitrous_oxide$X1963 + co2$X1963, X1964 = methane$X1964 + nitrous_oxide$X1964 + co2$X1964, X1965 = methane$X1965 + nitrous_oxide$X1965 + co2$X1965,\n",
    "                        X1966 = methane$X1966 + nitrous_oxide$X1966 + co2$X1966, X1967 = methane$X1967 + nitrous_oxide$X1967 + co2$X1967, X1968 = methane$X1968 + nitrous_oxide$X1968 + co2$X1968,\n",
    "                        X1969 = methane$X1969 + nitrous_oxide$X1969 + co2$X1969, X1970 = methane$X1970 + nitrous_oxide$X1970 + co2$X1970, X1971 = methane$X1971 + nitrous_oxide$X1971 + co2$X1971,\n",
    "                        X1972 = methane$X1972 + nitrous_oxide$X1972 + co2$X1972, X1973 = methane$X1973 + nitrous_oxide$X1973 + co2$X1973, X1974 = methane$X1974 + nitrous_oxide$X1974 + co2$X1974,\n",
    "                        X1975 = methane$X1975 + nitrous_oxide$X1975 + co2$X1975, X1976 = methane$X1976 + nitrous_oxide$X1976 + co2$X1976, X1977 = methane$X1977 + nitrous_oxide$X1977 + co2$X1977,\n",
    "                        X1978 = methane$X1978 + nitrous_oxide$X1978 + co2$X1978, X1979 = methane$X1979 + nitrous_oxide$X1979 + co2$X1979, X1980 = methane$X1980 + nitrous_oxide$X1980 + co2$X1980,\n",
    "                        X1981 = methane$X1981 + nitrous_oxide$X1981 + co2$X1981, X1982 = methane$X1982 + nitrous_oxide$X1982 + co2$X1982, X1983 = methane$X1983 + nitrous_oxide$X1983 + co2$X1983,\n",
    "                        X1984 = methane$X1984 + nitrous_oxide$X1984 + co2$X1984, X1985 = methane$X1985 + nitrous_oxide$X1985 + co2$X1985, X1986 = methane$X1986 + nitrous_oxide$X1986 + co2$X1986,\n",
    "                        X1987 = methane$X1987 + nitrous_oxide$X1987 + co2$X1987, X1988 = methane$X1988 + nitrous_oxide$X1988 + co2$X1988, X1989 = methane$X1989 + nitrous_oxide$X1989 + co2$X1989,\n",
    "                        X1990 = methane$X1990 + nitrous_oxide$X1990 + co2$X1990, X1991 = methane$X1991 + nitrous_oxide$X1991 + co2$X1991, X1992 = methane$X1992 + nitrous_oxide$X1992 + co2$X1992,\n",
    "                        X1993 = methane$X1993 + nitrous_oxide$X1993 + co2$X1993, X1994 = methane$X1994 + nitrous_oxide$X1994 + co2$X1994, X1995 = methane$X1995 + nitrous_oxide$X1995 + co2$X1995,\n",
    "                        X1996 = methane$X1996 + nitrous_oxide$X1996 + co2$X1996, X1997 = methane$X1997 + nitrous_oxide$X1997 + co2$X1997, X1998 = methane$X1998 + nitrous_oxide$X1998 + co2$X1998,\n",
    "                        X1999 = methane$X1999 + nitrous_oxide$X1999 + co2$X1999, X2000 = methane$X2000 + nitrous_oxide$X2000 + co2$X2000, X2001 = methane$X2001 + nitrous_oxide$X2001 + co2$X2001,\n",
    "                        X2002 = methane$X2002 + nitrous_oxide$X2002 + co2$X2002, X2003 = methane$X2003 + nitrous_oxide$X2003 + co2$X2003, X2004 = methane$X2004 + nitrous_oxide$X2004 + co2$X2004,\n",
    "                        X2005 = methane$X2005 + nitrous_oxide$X2005 + co2$X2005, X2006 = methane$X2006 + nitrous_oxide$X2006 + co2$X2006, X2007 = methane$X2007 + nitrous_oxide$X2007 + co2$X2007,\n",
    "                        X2008 = methane$X2008 + nitrous_oxide$X2008 + co2$X2008, X2009 = methane$X2009 + nitrous_oxide$X2009 + co2$X2009, X2010 = methane$X2010 + nitrous_oxide$X2010 + co2$X2010,\n",
    "                        X2011 = methane$X2011 + nitrous_oxide$X2011 + co2$X2011, X2012 = methane$X2012 + nitrous_oxide$X2012 + co2$X2012, X2013 = methane$X2013 + nitrous_oxide$X2013 + co2$X2013,\n",
    "                        X2014 = methane$X2014 + nitrous_oxide$X2014 + co2$X2014, X2015 = methane$X2015 + nitrous_oxide$X2015 + co2$X2015, X2016 = methane$X2016 + nitrous_oxide$X2016 + co2$X2016,\n",
    "                        X2017 = methane$X2017 + nitrous_oxide$X2017 + co2$X2017, X2018 = methane$X2018 + nitrous_oxide$X2018 + co2$X2018, X2019 = methane$X2019 + nitrous_oxide$X2019 + co2$X2019,\n",
    "                        X2020 = methane$X2020 + nitrous_oxide$X2020 + co2$X2020, X2021 = methane$X2021 + nitrous_oxide$X2021 + co2$X2021, X2022 = methane$X2022 + nitrous_oxide$X2022 + co2$X2022)"
   ]
  },
  {
   "cell_type": "code",
   "execution_count": 7,
   "metadata": {
    "vscode": {
     "languageId": "r"
    }
   },
   "outputs": [
    {
     "data": {
      "text/html": [
       "<table class=\"dataframe\">\n",
       "<caption>A data.frame: 5 × 34</caption>\n",
       "<thead>\n",
       "\t<tr><th scope=col>continent</th><th scope=col>X1990</th><th scope=col>X1991</th><th scope=col>X1992</th><th scope=col>X1993</th><th scope=col>X1994</th><th scope=col>X1995</th><th scope=col>X1996</th><th scope=col>X1997</th><th scope=col>X1998</th><th scope=col>⋯</th><th scope=col>X2013</th><th scope=col>X2014</th><th scope=col>X2015</th><th scope=col>X2016</th><th scope=col>X2017</th><th scope=col>X2018</th><th scope=col>X2019</th><th scope=col>X2020</th><th scope=col>X2021</th><th scope=col>X2022</th></tr>\n",
       "\t<tr><th scope=col>&lt;chr&gt;</th><th scope=col>&lt;dbl&gt;</th><th scope=col>&lt;dbl&gt;</th><th scope=col>&lt;dbl&gt;</th><th scope=col>&lt;dbl&gt;</th><th scope=col>&lt;dbl&gt;</th><th scope=col>&lt;dbl&gt;</th><th scope=col>&lt;dbl&gt;</th><th scope=col>&lt;dbl&gt;</th><th scope=col>&lt;dbl&gt;</th><th scope=col>⋯</th><th scope=col>&lt;dbl&gt;</th><th scope=col>&lt;dbl&gt;</th><th scope=col>&lt;dbl&gt;</th><th scope=col>&lt;dbl&gt;</th><th scope=col>&lt;dbl&gt;</th><th scope=col>&lt;dbl&gt;</th><th scope=col>&lt;dbl&gt;</th><th scope=col>&lt;dbl&gt;</th><th scope=col>&lt;dbl&gt;</th><th scope=col>&lt;dbl&gt;</th></tr>\n",
       "</thead>\n",
       "<tbody>\n",
       "\t<tr><td>Africa  </td><td>18480.37</td><td>19069.26</td><td>19339.72</td><td>19690.99</td><td>21292.29</td><td>21660.30</td><td>22176.21</td><td>22339.91</td><td>22944.56</td><td>⋯</td><td> 28409.00</td><td> 28413.50</td><td> 28765.78</td><td> 29345.35</td><td> 29872.49</td><td> 30325.36</td><td> 30854.97</td><td> 30846.73</td><td>NaN</td><td>NaN</td></tr>\n",
       "\t<tr><td>Americas</td><td>62461.55</td><td>63312.66</td><td>64045.00</td><td>64436.75</td><td>65768.70</td><td>66771.58</td><td>67264.55</td><td>67710.51</td><td>67658.51</td><td>⋯</td><td> 75582.51</td><td> 77001.14</td><td> 77042.89</td><td> 76637.14</td><td> 76919.99</td><td> 77242.09</td><td> 78244.50</td><td> 76624.50</td><td>NaN</td><td>NaN</td></tr>\n",
       "\t<tr><td>Asia    </td><td>72417.00</td><td>73220.15</td><td>73623.23</td><td>74623.01</td><td>75514.37</td><td>78193.59</td><td>79822.34</td><td>78969.20</td><td>79775.46</td><td>⋯</td><td>103970.12</td><td>105119.62</td><td>105894.96</td><td>106445.54</td><td>107862.36</td><td>109522.73</td><td>110128.45</td><td>110290.07</td><td>NaN</td><td>NaN</td></tr>\n",
       "\t<tr><td>Europe  </td><td>49675.00</td><td>47968.43</td><td>45556.82</td><td>44115.63</td><td>43010.77</td><td>42000.58</td><td>41644.19</td><td>40523.36</td><td>39378.34</td><td>⋯</td><td> 35606.88</td><td> 35471.86</td><td> 35584.71</td><td> 35915.74</td><td> 36263.97</td><td> 36547.34</td><td> 36583.20</td><td> 36304.21</td><td>NaN</td><td>NaN</td></tr>\n",
       "\t<tr><td>Oceania </td><td>19647.18</td><td>19632.44</td><td>19486.33</td><td>19436.99</td><td>19652.24</td><td>19743.22</td><td>18930.47</td><td>18953.97</td><td>19445.86</td><td>⋯</td><td> 19001.73</td><td> 20901.58</td><td> 20441.57</td><td> 18192.14</td><td> 21402.80</td><td> 21146.90</td><td> 19163.37</td><td> 17338.95</td><td>NaN</td><td>NaN</td></tr>\n",
       "</tbody>\n",
       "</table>\n"
      ],
      "text/latex": [
       "A data.frame: 5 × 34\n",
       "\\begin{tabular}{lllllllllllllllllllll}\n",
       " continent & X1990 & X1991 & X1992 & X1993 & X1994 & X1995 & X1996 & X1997 & X1998 & ⋯ & X2013 & X2014 & X2015 & X2016 & X2017 & X2018 & X2019 & X2020 & X2021 & X2022\\\\\n",
       " <chr> & <dbl> & <dbl> & <dbl> & <dbl> & <dbl> & <dbl> & <dbl> & <dbl> & <dbl> & ⋯ & <dbl> & <dbl> & <dbl> & <dbl> & <dbl> & <dbl> & <dbl> & <dbl> & <dbl> & <dbl>\\\\\n",
       "\\hline\n",
       "\t Africa   & 18480.37 & 19069.26 & 19339.72 & 19690.99 & 21292.29 & 21660.30 & 22176.21 & 22339.91 & 22944.56 & ⋯ &  28409.00 &  28413.50 &  28765.78 &  29345.35 &  29872.49 &  30325.36 &  30854.97 &  30846.73 & NaN & NaN\\\\\n",
       "\t Americas & 62461.55 & 63312.66 & 64045.00 & 64436.75 & 65768.70 & 66771.58 & 67264.55 & 67710.51 & 67658.51 & ⋯ &  75582.51 &  77001.14 &  77042.89 &  76637.14 &  76919.99 &  77242.09 &  78244.50 &  76624.50 & NaN & NaN\\\\\n",
       "\t Asia     & 72417.00 & 73220.15 & 73623.23 & 74623.01 & 75514.37 & 78193.59 & 79822.34 & 78969.20 & 79775.46 & ⋯ & 103970.12 & 105119.62 & 105894.96 & 106445.54 & 107862.36 & 109522.73 & 110128.45 & 110290.07 & NaN & NaN\\\\\n",
       "\t Europe   & 49675.00 & 47968.43 & 45556.82 & 44115.63 & 43010.77 & 42000.58 & 41644.19 & 40523.36 & 39378.34 & ⋯ &  35606.88 &  35471.86 &  35584.71 &  35915.74 &  36263.97 &  36547.34 &  36583.20 &  36304.21 & NaN & NaN\\\\\n",
       "\t Oceania  & 19647.18 & 19632.44 & 19486.33 & 19436.99 & 19652.24 & 19743.22 & 18930.47 & 18953.97 & 19445.86 & ⋯ &  19001.73 &  20901.58 &  20441.57 &  18192.14 &  21402.80 &  21146.90 &  19163.37 &  17338.95 & NaN & NaN\\\\\n",
       "\\end{tabular}\n"
      ],
      "text/markdown": [
       "\n",
       "A data.frame: 5 × 34\n",
       "\n",
       "| continent &lt;chr&gt; | X1990 &lt;dbl&gt; | X1991 &lt;dbl&gt; | X1992 &lt;dbl&gt; | X1993 &lt;dbl&gt; | X1994 &lt;dbl&gt; | X1995 &lt;dbl&gt; | X1996 &lt;dbl&gt; | X1997 &lt;dbl&gt; | X1998 &lt;dbl&gt; | ⋯ ⋯ | X2013 &lt;dbl&gt; | X2014 &lt;dbl&gt; | X2015 &lt;dbl&gt; | X2016 &lt;dbl&gt; | X2017 &lt;dbl&gt; | X2018 &lt;dbl&gt; | X2019 &lt;dbl&gt; | X2020 &lt;dbl&gt; | X2021 &lt;dbl&gt; | X2022 &lt;dbl&gt; |\n",
       "|---|---|---|---|---|---|---|---|---|---|---|---|---|---|---|---|---|---|---|---|---|\n",
       "| Africa   | 18480.37 | 19069.26 | 19339.72 | 19690.99 | 21292.29 | 21660.30 | 22176.21 | 22339.91 | 22944.56 | ⋯ |  28409.00 |  28413.50 |  28765.78 |  29345.35 |  29872.49 |  30325.36 |  30854.97 |  30846.73 | NaN | NaN |\n",
       "| Americas | 62461.55 | 63312.66 | 64045.00 | 64436.75 | 65768.70 | 66771.58 | 67264.55 | 67710.51 | 67658.51 | ⋯ |  75582.51 |  77001.14 |  77042.89 |  76637.14 |  76919.99 |  77242.09 |  78244.50 |  76624.50 | NaN | NaN |\n",
       "| Asia     | 72417.00 | 73220.15 | 73623.23 | 74623.01 | 75514.37 | 78193.59 | 79822.34 | 78969.20 | 79775.46 | ⋯ | 103970.12 | 105119.62 | 105894.96 | 106445.54 | 107862.36 | 109522.73 | 110128.45 | 110290.07 | NaN | NaN |\n",
       "| Europe   | 49675.00 | 47968.43 | 45556.82 | 44115.63 | 43010.77 | 42000.58 | 41644.19 | 40523.36 | 39378.34 | ⋯ |  35606.88 |  35471.86 |  35584.71 |  35915.74 |  36263.97 |  36547.34 |  36583.20 |  36304.21 | NaN | NaN |\n",
       "| Oceania  | 19647.18 | 19632.44 | 19486.33 | 19436.99 | 19652.24 | 19743.22 | 18930.47 | 18953.97 | 19445.86 | ⋯ |  19001.73 |  20901.58 |  20441.57 |  18192.14 |  21402.80 |  21146.90 |  19163.37 |  17338.95 | NaN | NaN |\n",
       "\n"
      ],
      "text/plain": [
       "  continent X1990    X1991    X1992    X1993    X1994    X1995    X1996   \n",
       "1 Africa    18480.37 19069.26 19339.72 19690.99 21292.29 21660.30 22176.21\n",
       "2 Americas  62461.55 63312.66 64045.00 64436.75 65768.70 66771.58 67264.55\n",
       "3 Asia      72417.00 73220.15 73623.23 74623.01 75514.37 78193.59 79822.34\n",
       "4 Europe    49675.00 47968.43 45556.82 44115.63 43010.77 42000.58 41644.19\n",
       "5 Oceania   19647.18 19632.44 19486.33 19436.99 19652.24 19743.22 18930.47\n",
       "  X1997    X1998    ⋯ X2013     X2014     X2015     X2016     X2017    \n",
       "1 22339.91 22944.56 ⋯  28409.00  28413.50  28765.78  29345.35  29872.49\n",
       "2 67710.51 67658.51 ⋯  75582.51  77001.14  77042.89  76637.14  76919.99\n",
       "3 78969.20 79775.46 ⋯ 103970.12 105119.62 105894.96 106445.54 107862.36\n",
       "4 40523.36 39378.34 ⋯  35606.88  35471.86  35584.71  35915.74  36263.97\n",
       "5 18953.97 19445.86 ⋯  19001.73  20901.58  20441.57  18192.14  21402.80\n",
       "  X2018     X2019     X2020     X2021 X2022\n",
       "1  30325.36  30854.97  30846.73 NaN   NaN  \n",
       "2  77242.09  78244.50  76624.50 NaN   NaN  \n",
       "3 109522.73 110128.45 110290.07 NaN   NaN  \n",
       "4  36547.34  36583.20  36304.21 NaN   NaN  \n",
       "5  21146.90  19163.37  17338.95 NaN   NaN  "
      ]
     },
     "metadata": {},
     "output_type": "display_data"
    }
   ],
   "source": [
    "# remove data till 1989 as the data is not available for all continents\n",
    "emissions <- emissions %>%\n",
    "  select(-c(X1961:X1989))\n",
    "\n",
    "\n",
    "emissions"
   ]
  },
  {
   "cell_type": "code",
   "execution_count": 17,
   "metadata": {
    "vscode": {
     "languageId": "r"
    }
   },
   "outputs": [
    {
     "name": "stderr",
     "output_type": "stream",
     "text": [
      "Warning message:\n",
      "\"\u001b[1m\u001b[22mRemoved 10 rows containing missing values or values outside the scale range\n",
      "(`geom_line()`).\"\n"
     ]
    },
    {
     "data": {
      "image/png": "[encoded data removed]",
      "text/plain": [
       "plot without title"
      ]
     },
     "metadata": {
      "image/png": {
       "height": 420,
       "width": 420
      }
     },
     "output_type": "display_data"
    }
   ],
   "source": [
    "# make a line plot with each of the continent's trajectory over the years for total emissions\n",
    "\n",
    "# Convert from wide to long format\n",
    "emissions_long <- emissions %>%\n",
    "  pivot_longer(cols = starts_with(\"X\"), names_to = \"Year\", values_to = \"TotalEmissions\") %>%\n",
    "  mutate(Year = as.numeric(str_replace(Year, \"X\", \"\")))  # Convert year to numeric\n",
    "\n",
    "# Plot\n",
    "ggplot(emissions_long, aes(x = Year, y = TotalEmissions, color = continent, group = continent)) +\n",
    "  geom_line() + # Thicker lines\n",
    "  theme_minimal() + # A minimal theme without grey background\n",
    "  labs(title = \"Total Emissions Trajectory by Continent\",\n",
    "       x = \"Year\",\n",
    "       y = \"Total Emissions (million metric tonnes)\") +\n",
    "  theme(plot.title = element_text(hjust = 0.5)) + # Center the plot title\n",
    "  theme(plot.background = element_blank()) + # Remove any background color\n",
    "  # set the color palette\n",
    "  scale_color_manual(values = c(\"Africa\" = \"red\", \"Asia\" = \"green\", \"Europe\" = \"blue\", \"Americas\" = \"orange\", \"Oceania\" = \"purple\"))"
   ]
  },
  {
   "cell_type": "code",
   "execution_count": 9,
   "metadata": {
    "vscode": {
     "languageId": "r"
    }
   },
   "outputs": [
    {
     "data": {
      "text/html": [
       "<table class=\"dataframe\">\n",
       "<caption>A tibble: 5 × 53</caption>\n",
       "<thead>\n",
       "\t<tr><th scope=col>continent</th><th scope=col>X1971</th><th scope=col>X1972</th><th scope=col>X1973</th><th scope=col>X1974</th><th scope=col>X1975</th><th scope=col>X1976</th><th scope=col>X1977</th><th scope=col>X1978</th><th scope=col>X1979</th><th scope=col>⋯</th><th scope=col>X2013</th><th scope=col>X2014</th><th scope=col>X2015</th><th scope=col>X2016</th><th scope=col>X2017</th><th scope=col>X2018</th><th scope=col>X2019</th><th scope=col>X2020</th><th scope=col>X2021</th><th scope=col>X2022</th></tr>\n",
       "\t<tr><th scope=col>&lt;chr&gt;</th><th scope=col>&lt;dbl&gt;</th><th scope=col>&lt;dbl&gt;</th><th scope=col>&lt;dbl&gt;</th><th scope=col>&lt;dbl&gt;</th><th scope=col>&lt;dbl&gt;</th><th scope=col>&lt;dbl&gt;</th><th scope=col>&lt;dbl&gt;</th><th scope=col>&lt;dbl&gt;</th><th scope=col>&lt;dbl&gt;</th><th scope=col>⋯</th><th scope=col>&lt;dbl&gt;</th><th scope=col>&lt;dbl&gt;</th><th scope=col>&lt;dbl&gt;</th><th scope=col>&lt;dbl&gt;</th><th scope=col>&lt;dbl&gt;</th><th scope=col>&lt;dbl&gt;</th><th scope=col>&lt;dbl&gt;</th><th scope=col>&lt;dbl&gt;</th><th scope=col>&lt;dbl&gt;</th><th scope=col>&lt;dbl&gt;</th></tr>\n",
       "</thead>\n",
       "<tbody>\n",
       "\t<tr><td>Africa  </td><td>0.4780686</td><td>0.5019503</td><td>0.5035958</td><td>0.5039366</td><td>0.5654854</td><td>0.5564064</td><td>0.5719525</td><td>0.5760725</td><td>0.5832567</td><td>⋯</td><td>0.8990392</td><td>0.9065811</td><td>0.9000717</td><td>0.9269842</td><td>0.9551420</td><td>0.9719944</td><td>0.9898236</td><td>1.003266</td><td>1.0084755</td><td>     NaN</td></tr>\n",
       "\t<tr><td>Americas</td><td>1.0002579</td><td>1.0092614</td><td>1.0825524</td><td>1.0565148</td><td>1.1564008</td><td>1.1935638</td><td>1.0651109</td><td>1.0394310</td><td>1.0885762</td><td>⋯</td><td>1.0522210</td><td>1.0414557</td><td>1.0436461</td><td>1.0317822</td><td>1.0325912</td><td>1.0239896</td><td>1.0244732</td><td>1.034216</td><td>1.0340923</td><td>     NaN</td></tr>\n",
       "\t<tr><td>Asia    </td><td>0.5890773</td><td>0.6165404</td><td>0.6719540</td><td>0.7186625</td><td>0.7299805</td><td>0.7394689</td><td>0.6902748</td><td>0.7350461</td><td>0.7700827</td><td>⋯</td><td>0.9813203</td><td>0.9961983</td><td>0.9947821</td><td>0.9875052</td><td>0.9981941</td><td>1.0050728</td><td>1.0070684</td><td>1.014522</td><td>1.0274975</td><td>1.023031</td></tr>\n",
       "\t<tr><td>Europe  </td><td>0.9481513</td><td>0.9665441</td><td>0.9656541</td><td>0.9890464</td><td>0.9753425</td><td>1.0250236</td><td>1.0106005</td><td>0.9900023</td><td>1.0019159</td><td>⋯</td><td>1.0037415</td><td>0.9998222</td><td>1.0010289</td><td>0.9987930</td><td>0.9952851</td><td>0.9985587</td><td>0.9984403</td><td>1.003100</td><td>0.9862757</td><td>     NaN</td></tr>\n",
       "\t<tr><td>Oceania </td><td>0.8229150</td><td>0.8722943</td><td>0.9029443</td><td>0.8173043</td><td>0.7909537</td><td>0.8742717</td><td>0.8582471</td><td>0.9583880</td><td>0.9978967</td><td>⋯</td><td>1.0625500</td><td>1.0809774</td><td>1.0551167</td><td>1.0515480</td><td>0.9757850</td><td>1.0021898</td><td>1.0110837</td><td>1.066162</td><td>1.0771486</td><td>     NaN</td></tr>\n",
       "</tbody>\n",
       "</table>\n"
      ],
      "text/latex": [
       "A tibble: 5 × 53\n",
       "\\begin{tabular}{lllllllllllllllllllll}\n",
       " continent & X1971 & X1972 & X1973 & X1974 & X1975 & X1976 & X1977 & X1978 & X1979 & ⋯ & X2013 & X2014 & X2015 & X2016 & X2017 & X2018 & X2019 & X2020 & X2021 & X2022\\\\\n",
       " <chr> & <dbl> & <dbl> & <dbl> & <dbl> & <dbl> & <dbl> & <dbl> & <dbl> & <dbl> & ⋯ & <dbl> & <dbl> & <dbl> & <dbl> & <dbl> & <dbl> & <dbl> & <dbl> & <dbl> & <dbl>\\\\\n",
       "\\hline\n",
       "\t Africa   & 0.4780686 & 0.5019503 & 0.5035958 & 0.5039366 & 0.5654854 & 0.5564064 & 0.5719525 & 0.5760725 & 0.5832567 & ⋯ & 0.8990392 & 0.9065811 & 0.9000717 & 0.9269842 & 0.9551420 & 0.9719944 & 0.9898236 & 1.003266 & 1.0084755 &      NaN\\\\\n",
       "\t Americas & 1.0002579 & 1.0092614 & 1.0825524 & 1.0565148 & 1.1564008 & 1.1935638 & 1.0651109 & 1.0394310 & 1.0885762 & ⋯ & 1.0522210 & 1.0414557 & 1.0436461 & 1.0317822 & 1.0325912 & 1.0239896 & 1.0244732 & 1.034216 & 1.0340923 &      NaN\\\\\n",
       "\t Asia     & 0.5890773 & 0.6165404 & 0.6719540 & 0.7186625 & 0.7299805 & 0.7394689 & 0.6902748 & 0.7350461 & 0.7700827 & ⋯ & 0.9813203 & 0.9961983 & 0.9947821 & 0.9875052 & 0.9981941 & 1.0050728 & 1.0070684 & 1.014522 & 1.0274975 & 1.023031\\\\\n",
       "\t Europe   & 0.9481513 & 0.9665441 & 0.9656541 & 0.9890464 & 0.9753425 & 1.0250236 & 1.0106005 & 0.9900023 & 1.0019159 & ⋯ & 1.0037415 & 0.9998222 & 1.0010289 & 0.9987930 & 0.9952851 & 0.9985587 & 0.9984403 & 1.003100 & 0.9862757 &      NaN\\\\\n",
       "\t Oceania  & 0.8229150 & 0.8722943 & 0.9029443 & 0.8173043 & 0.7909537 & 0.8742717 & 0.8582471 & 0.9583880 & 0.9978967 & ⋯ & 1.0625500 & 1.0809774 & 1.0551167 & 1.0515480 & 0.9757850 & 1.0021898 & 1.0110837 & 1.066162 & 1.0771486 &      NaN\\\\\n",
       "\\end{tabular}\n"
      ],
      "text/markdown": [
       "\n",
       "A tibble: 5 × 53\n",
       "\n",
       "| continent &lt;chr&gt; | X1971 &lt;dbl&gt; | X1972 &lt;dbl&gt; | X1973 &lt;dbl&gt; | X1974 &lt;dbl&gt; | X1975 &lt;dbl&gt; | X1976 &lt;dbl&gt; | X1977 &lt;dbl&gt; | X1978 &lt;dbl&gt; | X1979 &lt;dbl&gt; | ⋯ ⋯ | X2013 &lt;dbl&gt; | X2014 &lt;dbl&gt; | X2015 &lt;dbl&gt; | X2016 &lt;dbl&gt; | X2017 &lt;dbl&gt; | X2018 &lt;dbl&gt; | X2019 &lt;dbl&gt; | X2020 &lt;dbl&gt; | X2021 &lt;dbl&gt; | X2022 &lt;dbl&gt; |\n",
       "|---|---|---|---|---|---|---|---|---|---|---|---|---|---|---|---|---|---|---|---|---|\n",
       "| Africa   | 0.4780686 | 0.5019503 | 0.5035958 | 0.5039366 | 0.5654854 | 0.5564064 | 0.5719525 | 0.5760725 | 0.5832567 | ⋯ | 0.8990392 | 0.9065811 | 0.9000717 | 0.9269842 | 0.9551420 | 0.9719944 | 0.9898236 | 1.003266 | 1.0084755 |      NaN |\n",
       "| Americas | 1.0002579 | 1.0092614 | 1.0825524 | 1.0565148 | 1.1564008 | 1.1935638 | 1.0651109 | 1.0394310 | 1.0885762 | ⋯ | 1.0522210 | 1.0414557 | 1.0436461 | 1.0317822 | 1.0325912 | 1.0239896 | 1.0244732 | 1.034216 | 1.0340923 |      NaN |\n",
       "| Asia     | 0.5890773 | 0.6165404 | 0.6719540 | 0.7186625 | 0.7299805 | 0.7394689 | 0.6902748 | 0.7350461 | 0.7700827 | ⋯ | 0.9813203 | 0.9961983 | 0.9947821 | 0.9875052 | 0.9981941 | 1.0050728 | 1.0070684 | 1.014522 | 1.0274975 | 1.023031 |\n",
       "| Europe   | 0.9481513 | 0.9665441 | 0.9656541 | 0.9890464 | 0.9753425 | 1.0250236 | 1.0106005 | 0.9900023 | 1.0019159 | ⋯ | 1.0037415 | 0.9998222 | 1.0010289 | 0.9987930 | 0.9952851 | 0.9985587 | 0.9984403 | 1.003100 | 0.9862757 |      NaN |\n",
       "| Oceania  | 0.8229150 | 0.8722943 | 0.9029443 | 0.8173043 | 0.7909537 | 0.8742717 | 0.8582471 | 0.9583880 | 0.9978967 | ⋯ | 1.0625500 | 1.0809774 | 1.0551167 | 1.0515480 | 0.9757850 | 1.0021898 | 1.0110837 | 1.066162 | 1.0771486 |      NaN |\n",
       "\n"
      ],
      "text/plain": [
       "  continent X1971     X1972     X1973     X1974     X1975     X1976    \n",
       "1 Africa    0.4780686 0.5019503 0.5035958 0.5039366 0.5654854 0.5564064\n",
       "2 Americas  1.0002579 1.0092614 1.0825524 1.0565148 1.1564008 1.1935638\n",
       "3 Asia      0.5890773 0.6165404 0.6719540 0.7186625 0.7299805 0.7394689\n",
       "4 Europe    0.9481513 0.9665441 0.9656541 0.9890464 0.9753425 1.0250236\n",
       "5 Oceania   0.8229150 0.8722943 0.9029443 0.8173043 0.7909537 0.8742717\n",
       "  X1977     X1978     X1979     ⋯ X2013     X2014     X2015     X2016    \n",
       "1 0.5719525 0.5760725 0.5832567 ⋯ 0.8990392 0.9065811 0.9000717 0.9269842\n",
       "2 1.0651109 1.0394310 1.0885762 ⋯ 1.0522210 1.0414557 1.0436461 1.0317822\n",
       "3 0.6902748 0.7350461 0.7700827 ⋯ 0.9813203 0.9961983 0.9947821 0.9875052\n",
       "4 1.0106005 0.9900023 1.0019159 ⋯ 1.0037415 0.9998222 1.0010289 0.9987930\n",
       "5 0.8582471 0.9583880 0.9978967 ⋯ 1.0625500 1.0809774 1.0551167 1.0515480\n",
       "  X2017     X2018     X2019     X2020    X2021     X2022   \n",
       "1 0.9551420 0.9719944 0.9898236 1.003266 1.0084755      NaN\n",
       "2 1.0325912 1.0239896 1.0244732 1.034216 1.0340923      NaN\n",
       "3 0.9981941 1.0050728 1.0070684 1.014522 1.0274975 1.023031\n",
       "4 0.9952851 0.9985587 0.9984403 1.003100 0.9862757      NaN\n",
       "5 0.9757850 1.0021898 1.0110837 1.066162 1.0771486      NaN"
      ]
     },
     "metadata": {},
     "output_type": "display_data"
    }
   ],
   "source": [
    "# remove data till 1970 as the data is not available for all continents\n",
    "school_secondary <- school_secondary %>%\n",
    "  select(-c(X1961:X1970))\n",
    "\n",
    "school_secondary"
   ]
  },
  {
   "cell_type": "code",
   "execution_count": 10,
   "metadata": {
    "vscode": {
     "languageId": "r"
    }
   },
   "outputs": [
    {
     "name": "stderr",
     "output_type": "stream",
     "text": [
      "Warning message:\n",
      "\"\u001b[1m\u001b[22mRemoved 4 rows containing missing values or values outside the scale range\n",
      "(`geom_line()`).\"\n"
     ]
    },
    {
     "data": {
      "image/png": "[encoded data removed]",
      "text/plain": [
       "plot without title"
      ]
     },
     "metadata": {
      "image/png": {
       "height": 420,
       "width": 420
      }
     },
     "output_type": "display_data"
    }
   ],
   "source": [
    "# Convert from wide to long format\n",
    "secondary_long <- school_secondary %>%\n",
    "  pivot_longer(cols = starts_with(\"X\"), names_to = \"Year\", values_to = \"AvgGPI\") %>%\n",
    "  mutate(Year = as.numeric(str_replace(Year, \"X\", \"\")))  # Convert year to numeric\n",
    "\n",
    "# Plot\n",
    "ggplot(secondary_long, aes(x = Year, y = AvgGPI, color = continent, group = continent)) +\n",
    "  geom_line() + # Thicker lines\n",
    "  theme_minimal() + # A minimal theme without grey background\n",
    "  labs(title = \"Gender Parity Index (GPI) for Secondary School Enrollment by Continent\",\n",
    "       x = \"Year\",\n",
    "       y = \"GPI\") +\n",
    "  theme(plot.title = element_text(hjust = 0.5)) + # Center the plot title\n",
    "  theme(plot.background = element_blank()) + # Remove any background color\n",
    "  # set the color palette\n",
    "  scale_color_manual(values = c(\"Africa\" = \"red\", \"Asia\" = \"green\", \"Europe\" = \"blue\", \"Americas\" = \"orange\", \"Oceania\" = \"purple\"))"
   ]
  },
  {
   "cell_type": "code",
   "execution_count": 11,
   "metadata": {
    "vscode": {
     "languageId": "r"
    }
   },
   "outputs": [
    {
     "data": {
      "text/html": [
       "<table class=\"dataframe\">\n",
       "<caption>A tibble: 5 × 63</caption>\n",
       "<thead>\n",
       "\t<tr><th scope=col>continent</th><th scope=col>X1961</th><th scope=col>X1962</th><th scope=col>X1963</th><th scope=col>X1964</th><th scope=col>X1965</th><th scope=col>X1966</th><th scope=col>X1967</th><th scope=col>X1968</th><th scope=col>X1969</th><th scope=col>⋯</th><th scope=col>X2013</th><th scope=col>X2014</th><th scope=col>X2015</th><th scope=col>X2016</th><th scope=col>X2017</th><th scope=col>X2018</th><th scope=col>X2019</th><th scope=col>X2020</th><th scope=col>X2021</th><th scope=col>X2022</th></tr>\n",
       "\t<tr><th scope=col>&lt;chr&gt;</th><th scope=col>&lt;dbl&gt;</th><th scope=col>&lt;dbl&gt;</th><th scope=col>&lt;dbl&gt;</th><th scope=col>&lt;dbl&gt;</th><th scope=col>&lt;dbl&gt;</th><th scope=col>&lt;dbl&gt;</th><th scope=col>&lt;dbl&gt;</th><th scope=col>&lt;dbl&gt;</th><th scope=col>&lt;dbl&gt;</th><th scope=col>⋯</th><th scope=col>&lt;dbl&gt;</th><th scope=col>&lt;dbl&gt;</th><th scope=col>&lt;dbl&gt;</th><th scope=col>&lt;dbl&gt;</th><th scope=col>&lt;dbl&gt;</th><th scope=col>&lt;dbl&gt;</th><th scope=col>&lt;dbl&gt;</th><th scope=col>&lt;dbl&gt;</th><th scope=col>&lt;dbl&gt;</th><th scope=col>&lt;dbl&gt;</th></tr>\n",
       "</thead>\n",
       "<tbody>\n",
       "\t<tr><td>Africa  </td><td>16.58643</td><td>17.06804</td><td>17.57713</td><td>18.12230</td><td>18.72719</td><td>19.33596</td><td>19.93096</td><td>20.54517</td><td>21.17707</td><td>⋯</td><td>43.60070</td><td>44.04604</td><td>44.49474</td><td>44.94663</td><td>45.40198</td><td>45.86102</td><td>46.32341</td><td>46.78939</td><td>47.25852</td><td>47.73100</td></tr>\n",
       "\t<tr><td>Americas</td><td>48.30164</td><td>48.78736</td><td>49.27731</td><td>49.77978</td><td>50.25507</td><td>50.72816</td><td>51.19418</td><td>51.66000</td><td>52.12311</td><td>⋯</td><td>67.60909</td><td>67.81580</td><td>68.02449</td><td>68.23524</td><td>68.44858</td><td>68.66522</td><td>68.88524</td><td>69.10871</td><td>69.33567</td><td>69.56622</td></tr>\n",
       "\t<tr><td>Asia    </td><td>37.64388</td><td>38.18710</td><td>38.72152</td><td>39.24668</td><td>39.76432</td><td>40.29252</td><td>40.85844</td><td>41.45242</td><td>42.05250</td><td>⋯</td><td>59.33922</td><td>59.63224</td><td>59.94876</td><td>60.26802</td><td>60.58904</td><td>60.91362</td><td>61.24160</td><td>61.57294</td><td>61.90766</td><td>62.24596</td></tr>\n",
       "\t<tr><td>Europe  </td><td>53.05841</td><td>53.71530</td><td>54.38128</td><td>55.04811</td><td>55.71328</td><td>56.36826</td><td>57.01293</td><td>57.65183</td><td>58.27765</td><td>⋯</td><td>70.73013</td><td>70.90848</td><td>71.08843</td><td>71.27213</td><td>71.46041</td><td>71.65476</td><td>71.85513</td><td>72.06154</td><td>72.27400</td><td>72.49248</td></tr>\n",
       "\t<tr><td>Oceania </td><td>39.41432</td><td>40.00789</td><td>40.62174</td><td>41.25011</td><td>41.88126</td><td>42.51584</td><td>43.14832</td><td>43.91737</td><td>44.68747</td><td>⋯</td><td>58.53874</td><td>58.77653</td><td>59.01347</td><td>59.24789</td><td>59.48011</td><td>59.71263</td><td>59.94579</td><td>60.18000</td><td>60.41495</td><td>60.65089</td></tr>\n",
       "</tbody>\n",
       "</table>\n"
      ],
      "text/latex": [
       "A tibble: 5 × 63\n",
       "\\begin{tabular}{lllllllllllllllllllll}\n",
       " continent & X1961 & X1962 & X1963 & X1964 & X1965 & X1966 & X1967 & X1968 & X1969 & ⋯ & X2013 & X2014 & X2015 & X2016 & X2017 & X2018 & X2019 & X2020 & X2021 & X2022\\\\\n",
       " <chr> & <dbl> & <dbl> & <dbl> & <dbl> & <dbl> & <dbl> & <dbl> & <dbl> & <dbl> & ⋯ & <dbl> & <dbl> & <dbl> & <dbl> & <dbl> & <dbl> & <dbl> & <dbl> & <dbl> & <dbl>\\\\\n",
       "\\hline\n",
       "\t Africa   & 16.58643 & 17.06804 & 17.57713 & 18.12230 & 18.72719 & 19.33596 & 19.93096 & 20.54517 & 21.17707 & ⋯ & 43.60070 & 44.04604 & 44.49474 & 44.94663 & 45.40198 & 45.86102 & 46.32341 & 46.78939 & 47.25852 & 47.73100\\\\\n",
       "\t Americas & 48.30164 & 48.78736 & 49.27731 & 49.77978 & 50.25507 & 50.72816 & 51.19418 & 51.66000 & 52.12311 & ⋯ & 67.60909 & 67.81580 & 68.02449 & 68.23524 & 68.44858 & 68.66522 & 68.88524 & 69.10871 & 69.33567 & 69.56622\\\\\n",
       "\t Asia     & 37.64388 & 38.18710 & 38.72152 & 39.24668 & 39.76432 & 40.29252 & 40.85844 & 41.45242 & 42.05250 & ⋯ & 59.33922 & 59.63224 & 59.94876 & 60.26802 & 60.58904 & 60.91362 & 61.24160 & 61.57294 & 61.90766 & 62.24596\\\\\n",
       "\t Europe   & 53.05841 & 53.71530 & 54.38128 & 55.04811 & 55.71328 & 56.36826 & 57.01293 & 57.65183 & 58.27765 & ⋯ & 70.73013 & 70.90848 & 71.08843 & 71.27213 & 71.46041 & 71.65476 & 71.85513 & 72.06154 & 72.27400 & 72.49248\\\\\n",
       "\t Oceania  & 39.41432 & 40.00789 & 40.62174 & 41.25011 & 41.88126 & 42.51584 & 43.14832 & 43.91737 & 44.68747 & ⋯ & 58.53874 & 58.77653 & 59.01347 & 59.24789 & 59.48011 & 59.71263 & 59.94579 & 60.18000 & 60.41495 & 60.65089\\\\\n",
       "\\end{tabular}\n"
      ],
      "text/markdown": [
       "\n",
       "A tibble: 5 × 63\n",
       "\n",
       "| continent &lt;chr&gt; | X1961 &lt;dbl&gt; | X1962 &lt;dbl&gt; | X1963 &lt;dbl&gt; | X1964 &lt;dbl&gt; | X1965 &lt;dbl&gt; | X1966 &lt;dbl&gt; | X1967 &lt;dbl&gt; | X1968 &lt;dbl&gt; | X1969 &lt;dbl&gt; | ⋯ ⋯ | X2013 &lt;dbl&gt; | X2014 &lt;dbl&gt; | X2015 &lt;dbl&gt; | X2016 &lt;dbl&gt; | X2017 &lt;dbl&gt; | X2018 &lt;dbl&gt; | X2019 &lt;dbl&gt; | X2020 &lt;dbl&gt; | X2021 &lt;dbl&gt; | X2022 &lt;dbl&gt; |\n",
       "|---|---|---|---|---|---|---|---|---|---|---|---|---|---|---|---|---|---|---|---|---|\n",
       "| Africa   | 16.58643 | 17.06804 | 17.57713 | 18.12230 | 18.72719 | 19.33596 | 19.93096 | 20.54517 | 21.17707 | ⋯ | 43.60070 | 44.04604 | 44.49474 | 44.94663 | 45.40198 | 45.86102 | 46.32341 | 46.78939 | 47.25852 | 47.73100 |\n",
       "| Americas | 48.30164 | 48.78736 | 49.27731 | 49.77978 | 50.25507 | 50.72816 | 51.19418 | 51.66000 | 52.12311 | ⋯ | 67.60909 | 67.81580 | 68.02449 | 68.23524 | 68.44858 | 68.66522 | 68.88524 | 69.10871 | 69.33567 | 69.56622 |\n",
       "| Asia     | 37.64388 | 38.18710 | 38.72152 | 39.24668 | 39.76432 | 40.29252 | 40.85844 | 41.45242 | 42.05250 | ⋯ | 59.33922 | 59.63224 | 59.94876 | 60.26802 | 60.58904 | 60.91362 | 61.24160 | 61.57294 | 61.90766 | 62.24596 |\n",
       "| Europe   | 53.05841 | 53.71530 | 54.38128 | 55.04811 | 55.71328 | 56.36826 | 57.01293 | 57.65183 | 58.27765 | ⋯ | 70.73013 | 70.90848 | 71.08843 | 71.27213 | 71.46041 | 71.65476 | 71.85513 | 72.06154 | 72.27400 | 72.49248 |\n",
       "| Oceania  | 39.41432 | 40.00789 | 40.62174 | 41.25011 | 41.88126 | 42.51584 | 43.14832 | 43.91737 | 44.68747 | ⋯ | 58.53874 | 58.77653 | 59.01347 | 59.24789 | 59.48011 | 59.71263 | 59.94579 | 60.18000 | 60.41495 | 60.65089 |\n",
       "\n"
      ],
      "text/plain": [
       "  continent X1961    X1962    X1963    X1964    X1965    X1966    X1967   \n",
       "1 Africa    16.58643 17.06804 17.57713 18.12230 18.72719 19.33596 19.93096\n",
       "2 Americas  48.30164 48.78736 49.27731 49.77978 50.25507 50.72816 51.19418\n",
       "3 Asia      37.64388 38.18710 38.72152 39.24668 39.76432 40.29252 40.85844\n",
       "4 Europe    53.05841 53.71530 54.38128 55.04811 55.71328 56.36826 57.01293\n",
       "5 Oceania   39.41432 40.00789 40.62174 41.25011 41.88126 42.51584 43.14832\n",
       "  X1968    X1969    ⋯ X2013    X2014    X2015    X2016    X2017    X2018   \n",
       "1 20.54517 21.17707 ⋯ 43.60070 44.04604 44.49474 44.94663 45.40198 45.86102\n",
       "2 51.66000 52.12311 ⋯ 67.60909 67.81580 68.02449 68.23524 68.44858 68.66522\n",
       "3 41.45242 42.05250 ⋯ 59.33922 59.63224 59.94876 60.26802 60.58904 60.91362\n",
       "4 57.65183 58.27765 ⋯ 70.73013 70.90848 71.08843 71.27213 71.46041 71.65476\n",
       "5 43.91737 44.68747 ⋯ 58.53874 58.77653 59.01347 59.24789 59.48011 59.71263\n",
       "  X2019    X2020    X2021    X2022   \n",
       "1 46.32341 46.78939 47.25852 47.73100\n",
       "2 68.88524 69.10871 69.33567 69.56622\n",
       "3 61.24160 61.57294 61.90766 62.24596\n",
       "4 71.85513 72.06154 72.27400 72.49248\n",
       "5 59.94579 60.18000 60.41495 60.65089"
      ]
     },
     "metadata": {},
     "output_type": "display_data"
    }
   ],
   "source": [
    "urban"
   ]
  },
  {
   "cell_type": "code",
   "execution_count": 12,
   "metadata": {
    "vscode": {
     "languageId": "r"
    }
   },
   "outputs": [
    {
     "data": {
      "image/png": "[encoded data removed]",
      "text/plain": [
       "plot without title"
      ]
     },
     "metadata": {
      "image/png": {
       "height": 420,
       "width": 420
      }
     },
     "output_type": "display_data"
    }
   ],
   "source": [
    "# Convert from wide to long format\n",
    "urban_long <- urban %>%\n",
    "  pivot_longer(cols = starts_with(\"X\"), names_to = \"Year\", values_to = \"UrbanPopulation\") %>%\n",
    "  mutate(Year = as.numeric(str_replace(Year, \"X\", \"\")))  # Convert year to numeric\n",
    "\n",
    "# Plot\n",
    "ggplot(urban_long, aes(x = Year, y = UrbanPopulation, color = continent, group = continent)) +\n",
    "  geom_line() + # Thicker lines\n",
    "  theme_minimal() + # A minimal theme without grey background\n",
    "  labs(title = \"Urban Population % Trajectory by Continent\",\n",
    "       x = \"Year\",\n",
    "       y = \"Urban Population (%)\") +\n",
    "  theme(plot.title = element_text(hjust = 0.5)) + # Center the plot title\n",
    "  theme(plot.background = element_blank()) + # Remove any background color\n",
    "  # set the color palette\n",
    "  scale_color_manual(values = c(\"Africa\" = \"red\", \"Asia\" = \"green\", \"Europe\" = \"blue\", \"Americas\" = \"orange\", \"Oceania\" = \"purple\"))"
   ]
  },
  {
   "cell_type": "code",
   "execution_count": 13,
   "metadata": {
    "vscode": {
     "languageId": "r"
    }
   },
   "outputs": [
    {
     "data": {
      "text/html": [
       "<table class=\"dataframe\">\n",
       "<caption>A tibble: 5 × 34</caption>\n",
       "<thead>\n",
       "\t<tr><th scope=col>continent</th><th scope=col>X1990</th><th scope=col>X1991</th><th scope=col>X1992</th><th scope=col>X1993</th><th scope=col>X1994</th><th scope=col>X1995</th><th scope=col>X1996</th><th scope=col>X1997</th><th scope=col>X1998</th><th scope=col>⋯</th><th scope=col>X2013</th><th scope=col>X2014</th><th scope=col>X2015</th><th scope=col>X2016</th><th scope=col>X2017</th><th scope=col>X2018</th><th scope=col>X2019</th><th scope=col>X2020</th><th scope=col>X2021</th><th scope=col>X2022</th></tr>\n",
       "\t<tr><th scope=col>&lt;chr&gt;</th><th scope=col>&lt;dbl&gt;</th><th scope=col>&lt;dbl&gt;</th><th scope=col>&lt;dbl&gt;</th><th scope=col>&lt;dbl&gt;</th><th scope=col>&lt;dbl&gt;</th><th scope=col>&lt;dbl&gt;</th><th scope=col>&lt;dbl&gt;</th><th scope=col>&lt;dbl&gt;</th><th scope=col>&lt;dbl&gt;</th><th scope=col>⋯</th><th scope=col>&lt;dbl&gt;</th><th scope=col>&lt;dbl&gt;</th><th scope=col>&lt;dbl&gt;</th><th scope=col>&lt;dbl&gt;</th><th scope=col>&lt;dbl&gt;</th><th scope=col>&lt;dbl&gt;</th><th scope=col>&lt;dbl&gt;</th><th scope=col>&lt;dbl&gt;</th><th scope=col>&lt;dbl&gt;</th><th scope=col>&lt;dbl&gt;</th></tr>\n",
       "</thead>\n",
       "<tbody>\n",
       "\t<tr><td>Africa  </td><td>32.38533</td><td>32.23920</td><td>32.09307</td><td>31.57066</td><td>31.42663</td><td>31.28259</td><td>31.13856</td><td>30.99453</td><td>30.85050</td><td>⋯</td><td>28.36530</td><td>28.23407</td><td>28.10274</td><td>27.96182</td><td>27.82548</td><td>27.68418</td><td>27.54027</td><td>27.39741</td><td>27.25383</td><td>NaN</td></tr>\n",
       "\t<tr><td>Americas</td><td>43.62543</td><td>43.53013</td><td>43.43482</td><td>43.33951</td><td>43.24420</td><td>43.14889</td><td>43.05358</td><td>42.95827</td><td>42.99696</td><td>⋯</td><td>39.87009</td><td>39.82623</td><td>39.77689</td><td>39.73445</td><td>39.66822</td><td>39.61729</td><td>39.56697</td><td>39.51084</td><td>39.46505</td><td>NaN</td></tr>\n",
       "\t<tr><td>Asia    </td><td>26.60482</td><td>26.56557</td><td>23.93543</td><td>23.90640</td><td>24.07487</td><td>24.04661</td><td>24.01875</td><td>23.99049</td><td>23.96260</td><td>⋯</td><td>23.76979</td><td>23.72694</td><td>23.69322</td><td>23.64941</td><td>23.60507</td><td>23.57334</td><td>23.54066</td><td>23.50900</td><td>23.47051</td><td>NaN</td></tr>\n",
       "\t<tr><td>Europe  </td><td>24.14568</td><td>24.22504</td><td>28.13632</td><td>28.62604</td><td>28.70369</td><td>28.78139</td><td>28.85773</td><td>28.93546</td><td>29.01367</td><td>⋯</td><td>30.72941</td><td>30.78765</td><td>30.85060</td><td>30.89530</td><td>30.95806</td><td>30.98135</td><td>31.00217</td><td>31.05083</td><td>31.07054</td><td>NaN</td></tr>\n",
       "\t<tr><td>Oceania </td><td>42.74790</td><td>49.50198</td><td>49.51611</td><td>49.53023</td><td>49.54436</td><td>49.55848</td><td>49.57261</td><td>49.58674</td><td>49.60086</td><td>⋯</td><td>49.73285</td><td>49.74717</td><td>49.76150</td><td>49.48157</td><td>49.54509</td><td>49.55512</td><td>49.56530</td><td>49.57883</td><td>49.59013</td><td>NaN</td></tr>\n",
       "</tbody>\n",
       "</table>\n"
      ],
      "text/latex": [
       "A tibble: 5 × 34\n",
       "\\begin{tabular}{lllllllllllllllllllll}\n",
       " continent & X1990 & X1991 & X1992 & X1993 & X1994 & X1995 & X1996 & X1997 & X1998 & ⋯ & X2013 & X2014 & X2015 & X2016 & X2017 & X2018 & X2019 & X2020 & X2021 & X2022\\\\\n",
       " <chr> & <dbl> & <dbl> & <dbl> & <dbl> & <dbl> & <dbl> & <dbl> & <dbl> & <dbl> & ⋯ & <dbl> & <dbl> & <dbl> & <dbl> & <dbl> & <dbl> & <dbl> & <dbl> & <dbl> & <dbl>\\\\\n",
       "\\hline\n",
       "\t Africa   & 32.38533 & 32.23920 & 32.09307 & 31.57066 & 31.42663 & 31.28259 & 31.13856 & 30.99453 & 30.85050 & ⋯ & 28.36530 & 28.23407 & 28.10274 & 27.96182 & 27.82548 & 27.68418 & 27.54027 & 27.39741 & 27.25383 & NaN\\\\\n",
       "\t Americas & 43.62543 & 43.53013 & 43.43482 & 43.33951 & 43.24420 & 43.14889 & 43.05358 & 42.95827 & 42.99696 & ⋯ & 39.87009 & 39.82623 & 39.77689 & 39.73445 & 39.66822 & 39.61729 & 39.56697 & 39.51084 & 39.46505 & NaN\\\\\n",
       "\t Asia     & 26.60482 & 26.56557 & 23.93543 & 23.90640 & 24.07487 & 24.04661 & 24.01875 & 23.99049 & 23.96260 & ⋯ & 23.76979 & 23.72694 & 23.69322 & 23.64941 & 23.60507 & 23.57334 & 23.54066 & 23.50900 & 23.47051 & NaN\\\\\n",
       "\t Europe   & 24.14568 & 24.22504 & 28.13632 & 28.62604 & 28.70369 & 28.78139 & 28.85773 & 28.93546 & 29.01367 & ⋯ & 30.72941 & 30.78765 & 30.85060 & 30.89530 & 30.95806 & 30.98135 & 31.00217 & 31.05083 & 31.07054 & NaN\\\\\n",
       "\t Oceania  & 42.74790 & 49.50198 & 49.51611 & 49.53023 & 49.54436 & 49.55848 & 49.57261 & 49.58674 & 49.60086 & ⋯ & 49.73285 & 49.74717 & 49.76150 & 49.48157 & 49.54509 & 49.55512 & 49.56530 & 49.57883 & 49.59013 & NaN\\\\\n",
       "\\end{tabular}\n"
      ],
      "text/markdown": [
       "\n",
       "A tibble: 5 × 34\n",
       "\n",
       "| continent &lt;chr&gt; | X1990 &lt;dbl&gt; | X1991 &lt;dbl&gt; | X1992 &lt;dbl&gt; | X1993 &lt;dbl&gt; | X1994 &lt;dbl&gt; | X1995 &lt;dbl&gt; | X1996 &lt;dbl&gt; | X1997 &lt;dbl&gt; | X1998 &lt;dbl&gt; | ⋯ ⋯ | X2013 &lt;dbl&gt; | X2014 &lt;dbl&gt; | X2015 &lt;dbl&gt; | X2016 &lt;dbl&gt; | X2017 &lt;dbl&gt; | X2018 &lt;dbl&gt; | X2019 &lt;dbl&gt; | X2020 &lt;dbl&gt; | X2021 &lt;dbl&gt; | X2022 &lt;dbl&gt; |\n",
       "|---|---|---|---|---|---|---|---|---|---|---|---|---|---|---|---|---|---|---|---|---|\n",
       "| Africa   | 32.38533 | 32.23920 | 32.09307 | 31.57066 | 31.42663 | 31.28259 | 31.13856 | 30.99453 | 30.85050 | ⋯ | 28.36530 | 28.23407 | 28.10274 | 27.96182 | 27.82548 | 27.68418 | 27.54027 | 27.39741 | 27.25383 | NaN |\n",
       "| Americas | 43.62543 | 43.53013 | 43.43482 | 43.33951 | 43.24420 | 43.14889 | 43.05358 | 42.95827 | 42.99696 | ⋯ | 39.87009 | 39.82623 | 39.77689 | 39.73445 | 39.66822 | 39.61729 | 39.56697 | 39.51084 | 39.46505 | NaN |\n",
       "| Asia     | 26.60482 | 26.56557 | 23.93543 | 23.90640 | 24.07487 | 24.04661 | 24.01875 | 23.99049 | 23.96260 | ⋯ | 23.76979 | 23.72694 | 23.69322 | 23.64941 | 23.60507 | 23.57334 | 23.54066 | 23.50900 | 23.47051 | NaN |\n",
       "| Europe   | 24.14568 | 24.22504 | 28.13632 | 28.62604 | 28.70369 | 28.78139 | 28.85773 | 28.93546 | 29.01367 | ⋯ | 30.72941 | 30.78765 | 30.85060 | 30.89530 | 30.95806 | 30.98135 | 31.00217 | 31.05083 | 31.07054 | NaN |\n",
       "| Oceania  | 42.74790 | 49.50198 | 49.51611 | 49.53023 | 49.54436 | 49.55848 | 49.57261 | 49.58674 | 49.60086 | ⋯ | 49.73285 | 49.74717 | 49.76150 | 49.48157 | 49.54509 | 49.55512 | 49.56530 | 49.57883 | 49.59013 | NaN |\n",
       "\n"
      ],
      "text/plain": [
       "  continent X1990    X1991    X1992    X1993    X1994    X1995    X1996   \n",
       "1 Africa    32.38533 32.23920 32.09307 31.57066 31.42663 31.28259 31.13856\n",
       "2 Americas  43.62543 43.53013 43.43482 43.33951 43.24420 43.14889 43.05358\n",
       "3 Asia      26.60482 26.56557 23.93543 23.90640 24.07487 24.04661 24.01875\n",
       "4 Europe    24.14568 24.22504 28.13632 28.62604 28.70369 28.78139 28.85773\n",
       "5 Oceania   42.74790 49.50198 49.51611 49.53023 49.54436 49.55848 49.57261\n",
       "  X1997    X1998    ⋯ X2013    X2014    X2015    X2016    X2017    X2018   \n",
       "1 30.99453 30.85050 ⋯ 28.36530 28.23407 28.10274 27.96182 27.82548 27.68418\n",
       "2 42.95827 42.99696 ⋯ 39.87009 39.82623 39.77689 39.73445 39.66822 39.61729\n",
       "3 23.99049 23.96260 ⋯ 23.76979 23.72694 23.69322 23.64941 23.60507 23.57334\n",
       "4 28.93546 29.01367 ⋯ 30.72941 30.78765 30.85060 30.89530 30.95806 30.98135\n",
       "5 49.58674 49.60086 ⋯ 49.73285 49.74717 49.76150 49.48157 49.54509 49.55512\n",
       "  X2019    X2020    X2021    X2022\n",
       "1 27.54027 27.39741 27.25383 NaN  \n",
       "2 39.56697 39.51084 39.46505 NaN  \n",
       "3 23.54066 23.50900 23.47051 NaN  \n",
       "4 31.00217 31.05083 31.07054 NaN  \n",
       "5 49.56530 49.57883 49.59013 NaN  "
      ]
     },
     "metadata": {},
     "output_type": "display_data"
    }
   ],
   "source": [
    "# remove data till 1990 as the data is not available for all continents\n",
    "forest <- forest %>%\n",
    "  select(-c(X1961:X1989))\n",
    "\n",
    "forest"
   ]
  },
  {
   "cell_type": "code",
   "execution_count": 14,
   "metadata": {
    "vscode": {
     "languageId": "r"
    }
   },
   "outputs": [
    {
     "name": "stderr",
     "output_type": "stream",
     "text": [
      "Warning message:\n",
      "\"\u001b[1m\u001b[22mRemoved 5 rows containing missing values or values outside the scale range\n",
      "(`geom_line()`).\"\n"
     ]
    },
    {
     "data": {
      "image/png": "[encoded data removed]",
      "text/plain": [
       "plot without title"
      ]
     },
     "metadata": {
      "image/png": {
       "height": 420,
       "width": 420
      }
     },
     "output_type": "display_data"
    }
   ],
   "source": [
    "# Convert from wide to long format\n",
    "forest_long <- forest %>%\n",
    "  pivot_longer(cols = starts_with(\"X\"), names_to = \"Year\", values_to = \"forestarea\") %>%\n",
    "  mutate(Year = as.numeric(str_replace(Year, \"X\", \"\")))  # Convert year to numeric\n",
    "\n",
    "# Plot\n",
    "ggplot(forest_long, aes(x = Year, y = forestarea, color = continent, group = continent)) +\n",
    "  geom_line() + # Thicker lines\n",
    "  theme_minimal() + # A minimal theme without grey background\n",
    "  labs(title = \"Forest Area % Trajectory by Continent\",\n",
    "       x = \"Year\",\n",
    "       y = \"Forest Area (%)\") +\n",
    "  theme(plot.title = element_text(hjust = 0.5)) + # Center the plot title\n",
    "  theme(plot.background = element_blank()) + # Remove any background color\n",
    "  # set the color palette\n",
    "  scale_color_manual(values = c(\"Africa\" = \"red\", \"Asia\" = \"green\", \"Europe\" = \"blue\", \"Americas\" = \"orange\", \"Oceania\" = \"purple\"))"
   ]
  },
  {
   "cell_type": "code",
   "execution_count": 15,
   "metadata": {
    "vscode": {
     "languageId": "r"
    }
   },
   "outputs": [
    {
     "data": {
      "text/html": [
       "<table class=\"dataframe\">\n",
       "<caption>A tibble: 5 × 63</caption>\n",
       "<thead>\n",
       "\t<tr><th scope=col>continent</th><th scope=col>X1961</th><th scope=col>X1962</th><th scope=col>X1963</th><th scope=col>X1964</th><th scope=col>X1965</th><th scope=col>X1966</th><th scope=col>X1967</th><th scope=col>X1968</th><th scope=col>X1969</th><th scope=col>⋯</th><th scope=col>X2013</th><th scope=col>X2014</th><th scope=col>X2015</th><th scope=col>X2016</th><th scope=col>X2017</th><th scope=col>X2018</th><th scope=col>X2019</th><th scope=col>X2020</th><th scope=col>X2021</th><th scope=col>X2022</th></tr>\n",
       "\t<tr><th scope=col>&lt;chr&gt;</th><th scope=col>&lt;dbl&gt;</th><th scope=col>&lt;dbl&gt;</th><th scope=col>&lt;dbl&gt;</th><th scope=col>&lt;dbl&gt;</th><th scope=col>&lt;dbl&gt;</th><th scope=col>&lt;dbl&gt;</th><th scope=col>&lt;dbl&gt;</th><th scope=col>&lt;dbl&gt;</th><th scope=col>&lt;dbl&gt;</th><th scope=col>⋯</th><th scope=col>&lt;dbl&gt;</th><th scope=col>&lt;dbl&gt;</th><th scope=col>&lt;dbl&gt;</th><th scope=col>&lt;dbl&gt;</th><th scope=col>&lt;dbl&gt;</th><th scope=col>&lt;dbl&gt;</th><th scope=col>&lt;dbl&gt;</th><th scope=col>&lt;dbl&gt;</th><th scope=col>&lt;dbl&gt;</th><th scope=col>&lt;dbl&gt;</th></tr>\n",
       "</thead>\n",
       "<tbody>\n",
       "\t<tr><td>Africa  </td><td>38.80053</td><td>38.89293</td><td>38.97669</td><td>39.08485</td><td>39.22862</td><td>39.27678</td><td>39.41768</td><td>39.54498</td><td>39.74456</td><td>⋯</td><td>45.41378</td><td>45.54053</td><td>45.67154</td><td>45.88463</td><td>46.00282</td><td>46.12312</td><td>46.13748</td><td>46.28042</td><td>46.38405</td><td>NaN</td></tr>\n",
       "\t<tr><td>Americas</td><td>29.68708</td><td>29.67771</td><td>30.00914</td><td>30.33903</td><td>30.35989</td><td>30.70443</td><td>30.67764</td><td>30.69883</td><td>30.62013</td><td>⋯</td><td>28.43596</td><td>28.18820</td><td>28.23116</td><td>28.06430</td><td>27.97058</td><td>27.87398</td><td>27.72070</td><td>27.75624</td><td>27.76764</td><td>NaN</td></tr>\n",
       "\t<tr><td>Asia    </td><td>29.58123</td><td>29.64371</td><td>29.85307</td><td>29.95945</td><td>30.04426</td><td>30.03454</td><td>30.15233</td><td>30.16425</td><td>30.16376</td><td>⋯</td><td>35.98005</td><td>36.06529</td><td>36.26895</td><td>36.30732</td><td>36.45426</td><td>36.48295</td><td>36.48204</td><td>36.46487</td><td>36.38939</td><td>NaN</td></tr>\n",
       "\t<tr><td>Europe  </td><td>52.13589</td><td>51.97500</td><td>51.72462</td><td>51.50876</td><td>51.24660</td><td>51.23106</td><td>51.22314</td><td>51.15262</td><td>51.13957</td><td>⋯</td><td>42.33083</td><td>41.97716</td><td>42.52484</td><td>42.52964</td><td>42.47863</td><td>42.41838</td><td>42.58478</td><td>42.28402</td><td>42.13001</td><td>NaN</td></tr>\n",
       "\t<tr><td>Oceania </td><td>25.90393</td><td>26.06137</td><td>26.64510</td><td>26.68209</td><td>27.27290</td><td>27.36692</td><td>26.97688</td><td>27.20801</td><td>27.34042</td><td>⋯</td><td>23.59851</td><td>23.82355</td><td>23.70077</td><td>23.52222</td><td>23.65797</td><td>23.20178</td><td>23.09242</td><td>23.02962</td><td>23.09737</td><td>NaN</td></tr>\n",
       "</tbody>\n",
       "</table>\n"
      ],
      "text/latex": [
       "A tibble: 5 × 63\n",
       "\\begin{tabular}{lllllllllllllllllllll}\n",
       " continent & X1961 & X1962 & X1963 & X1964 & X1965 & X1966 & X1967 & X1968 & X1969 & ⋯ & X2013 & X2014 & X2015 & X2016 & X2017 & X2018 & X2019 & X2020 & X2021 & X2022\\\\\n",
       " <chr> & <dbl> & <dbl> & <dbl> & <dbl> & <dbl> & <dbl> & <dbl> & <dbl> & <dbl> & ⋯ & <dbl> & <dbl> & <dbl> & <dbl> & <dbl> & <dbl> & <dbl> & <dbl> & <dbl> & <dbl>\\\\\n",
       "\\hline\n",
       "\t Africa   & 38.80053 & 38.89293 & 38.97669 & 39.08485 & 39.22862 & 39.27678 & 39.41768 & 39.54498 & 39.74456 & ⋯ & 45.41378 & 45.54053 & 45.67154 & 45.88463 & 46.00282 & 46.12312 & 46.13748 & 46.28042 & 46.38405 & NaN\\\\\n",
       "\t Americas & 29.68708 & 29.67771 & 30.00914 & 30.33903 & 30.35989 & 30.70443 & 30.67764 & 30.69883 & 30.62013 & ⋯ & 28.43596 & 28.18820 & 28.23116 & 28.06430 & 27.97058 & 27.87398 & 27.72070 & 27.75624 & 27.76764 & NaN\\\\\n",
       "\t Asia     & 29.58123 & 29.64371 & 29.85307 & 29.95945 & 30.04426 & 30.03454 & 30.15233 & 30.16425 & 30.16376 & ⋯ & 35.98005 & 36.06529 & 36.26895 & 36.30732 & 36.45426 & 36.48295 & 36.48204 & 36.46487 & 36.38939 & NaN\\\\\n",
       "\t Europe   & 52.13589 & 51.97500 & 51.72462 & 51.50876 & 51.24660 & 51.23106 & 51.22314 & 51.15262 & 51.13957 & ⋯ & 42.33083 & 41.97716 & 42.52484 & 42.52964 & 42.47863 & 42.41838 & 42.58478 & 42.28402 & 42.13001 & NaN\\\\\n",
       "\t Oceania  & 25.90393 & 26.06137 & 26.64510 & 26.68209 & 27.27290 & 27.36692 & 26.97688 & 27.20801 & 27.34042 & ⋯ & 23.59851 & 23.82355 & 23.70077 & 23.52222 & 23.65797 & 23.20178 & 23.09242 & 23.02962 & 23.09737 & NaN\\\\\n",
       "\\end{tabular}\n"
      ],
      "text/markdown": [
       "\n",
       "A tibble: 5 × 63\n",
       "\n",
       "| continent &lt;chr&gt; | X1961 &lt;dbl&gt; | X1962 &lt;dbl&gt; | X1963 &lt;dbl&gt; | X1964 &lt;dbl&gt; | X1965 &lt;dbl&gt; | X1966 &lt;dbl&gt; | X1967 &lt;dbl&gt; | X1968 &lt;dbl&gt; | X1969 &lt;dbl&gt; | ⋯ ⋯ | X2013 &lt;dbl&gt; | X2014 &lt;dbl&gt; | X2015 &lt;dbl&gt; | X2016 &lt;dbl&gt; | X2017 &lt;dbl&gt; | X2018 &lt;dbl&gt; | X2019 &lt;dbl&gt; | X2020 &lt;dbl&gt; | X2021 &lt;dbl&gt; | X2022 &lt;dbl&gt; |\n",
       "|---|---|---|---|---|---|---|---|---|---|---|---|---|---|---|---|---|---|---|---|---|\n",
       "| Africa   | 38.80053 | 38.89293 | 38.97669 | 39.08485 | 39.22862 | 39.27678 | 39.41768 | 39.54498 | 39.74456 | ⋯ | 45.41378 | 45.54053 | 45.67154 | 45.88463 | 46.00282 | 46.12312 | 46.13748 | 46.28042 | 46.38405 | NaN |\n",
       "| Americas | 29.68708 | 29.67771 | 30.00914 | 30.33903 | 30.35989 | 30.70443 | 30.67764 | 30.69883 | 30.62013 | ⋯ | 28.43596 | 28.18820 | 28.23116 | 28.06430 | 27.97058 | 27.87398 | 27.72070 | 27.75624 | 27.76764 | NaN |\n",
       "| Asia     | 29.58123 | 29.64371 | 29.85307 | 29.95945 | 30.04426 | 30.03454 | 30.15233 | 30.16425 | 30.16376 | ⋯ | 35.98005 | 36.06529 | 36.26895 | 36.30732 | 36.45426 | 36.48295 | 36.48204 | 36.46487 | 36.38939 | NaN |\n",
       "| Europe   | 52.13589 | 51.97500 | 51.72462 | 51.50876 | 51.24660 | 51.23106 | 51.22314 | 51.15262 | 51.13957 | ⋯ | 42.33083 | 41.97716 | 42.52484 | 42.52964 | 42.47863 | 42.41838 | 42.58478 | 42.28402 | 42.13001 | NaN |\n",
       "| Oceania  | 25.90393 | 26.06137 | 26.64510 | 26.68209 | 27.27290 | 27.36692 | 26.97688 | 27.20801 | 27.34042 | ⋯ | 23.59851 | 23.82355 | 23.70077 | 23.52222 | 23.65797 | 23.20178 | 23.09242 | 23.02962 | 23.09737 | NaN |\n",
       "\n"
      ],
      "text/plain": [
       "  continent X1961    X1962    X1963    X1964    X1965    X1966    X1967   \n",
       "1 Africa    38.80053 38.89293 38.97669 39.08485 39.22862 39.27678 39.41768\n",
       "2 Americas  29.68708 29.67771 30.00914 30.33903 30.35989 30.70443 30.67764\n",
       "3 Asia      29.58123 29.64371 29.85307 29.95945 30.04426 30.03454 30.15233\n",
       "4 Europe    52.13589 51.97500 51.72462 51.50876 51.24660 51.23106 51.22314\n",
       "5 Oceania   25.90393 26.06137 26.64510 26.68209 27.27290 27.36692 26.97688\n",
       "  X1968    X1969    ⋯ X2013    X2014    X2015    X2016    X2017    X2018   \n",
       "1 39.54498 39.74456 ⋯ 45.41378 45.54053 45.67154 45.88463 46.00282 46.12312\n",
       "2 30.69883 30.62013 ⋯ 28.43596 28.18820 28.23116 28.06430 27.97058 27.87398\n",
       "3 30.16425 30.16376 ⋯ 35.98005 36.06529 36.26895 36.30732 36.45426 36.48295\n",
       "4 51.15262 51.13957 ⋯ 42.33083 41.97716 42.52484 42.52964 42.47863 42.41838\n",
       "5 27.20801 27.34042 ⋯ 23.59851 23.82355 23.70077 23.52222 23.65797 23.20178\n",
       "  X2019    X2020    X2021    X2022\n",
       "1 46.13748 46.28042 46.38405 NaN  \n",
       "2 27.72070 27.75624 27.76764 NaN  \n",
       "3 36.48204 36.46487 36.38939 NaN  \n",
       "4 42.58478 42.28402 42.13001 NaN  \n",
       "5 23.09242 23.02962 23.09737 NaN  "
      ]
     },
     "metadata": {},
     "output_type": "display_data"
    }
   ],
   "source": [
    "agriculture"
   ]
  },
  {
   "cell_type": "code",
   "execution_count": 16,
   "metadata": {
    "vscode": {
     "languageId": "r"
    }
   },
   "outputs": [
    {
     "name": "stderr",
     "output_type": "stream",
     "text": [
      "Warning message:\n",
      "\"\u001b[1m\u001b[22mRemoved 5 rows containing missing values or values outside the scale range\n",
      "(`geom_line()`).\"\n"
     ]
    },
    {
     "data": {
      "image/png": "[encoded data removed]",
      "text/plain": [
       "plot without title"
      ]
     },
     "metadata": {
      "image/png": {
       "height": 420,
       "width": 420
      }
     },
     "output_type": "display_data"
    }
   ],
   "source": [
    "# Convert from wide to long format\n",
    "agriculture_long <- agriculture %>%\n",
    "  pivot_longer(cols = starts_with(\"X\"), names_to = \"Year\", values_to = \"agriculturearea\") %>%\n",
    "  mutate(Year = as.numeric(str_replace(Year, \"X\", \"\")))  # Convert year to numeric\n",
    "\n",
    "# Plot\n",
    "ggplot(agriculture_long, aes(x = Year, y = agriculturearea, color = continent, group = continent)) +\n",
    "  geom_line() + # Thicker lines\n",
    "  theme_minimal() + # A minimal theme without grey background\n",
    "  labs(title = \"Agrictulural Land Area % Trajectory by Continent\",\n",
    "       x = \"Year\",\n",
    "       y = \"Agricultural Area (%)\") +\n",
    "  theme(plot.title = element_text(hjust = 0.5)) + # Center the plot title\n",
    "  theme(plot.background = element_blank()) + # Remove any background color\n",
    "  # set the color palette\n",
    "  scale_color_manual(values = c(\"Africa\" = \"red\", \"Asia\" = \"green\", \"Europe\" = \"blue\", \"Americas\" = \"orange\", \"Oceania\" = \"purple\"))"
   ]
  }
 ],
 "metadata": {
  "kernelspec": {
   "display_name": "R",
   "language": "R",
   "name": "ir"
  },
  "language_info": {
   "codemirror_mode": "r",
   "file_extension": ".r",
   "mimetype": "text/x-r-source",
   "name": "R",
   "pygments_lexer": "r",
   "version": "4.3.3"
  }
 },
 "nbformat": 4,
 "nbformat_minor": 2
}
