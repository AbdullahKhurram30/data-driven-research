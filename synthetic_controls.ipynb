{
 "cells": [
  {
   "cell_type": "code",
   "execution_count": null,
   "metadata": {
    "vscode": {
     "languageId": "r"
    }
   },
   "outputs": [],
   "source": [
    "# Load the data. \n",
    "data <- read.csv(\"link\")\n",
    "head(data)"
   ]
  },
  {
   "cell_type": "code",
   "execution_count": null,
   "metadata": {
    "vscode": {
     "languageId": "r"
    }
   },
   "outputs": [],
   "source": [
    "# For synthetic control analysis in R, we can use the Synth package.\n",
    "# If you haven't installed the package already, you can install it by\n",
    "# running the command install.package(\"Synth\")\n",
    "# Now, we can load the package\n",
    "library(Synth)\n",
    "\n",
    "# The synth() function we're going to use next takes a standard panel dataset.\n",
    "# So we first need to change the dataframe into a panel dataset by using the \n",
    "# function dataprep().\n",
    "# The 'foo' argument takes the dataset. \n",
    "# The 'predictors' argument takes the vector of all predictors. \n",
    "# The argument 'predictors.op' can take different methods used for matching \n",
    "# predictors. If we use 'mean', we use mean of the predictors.\n",
    "# If there are any additional numeric predictors, we feed them into the argument\n",
    "# 'special.predictors'. Here we are using the pre-treatment values of the outcome\n",
    "# variable as well. \n",
    "# We then have to define the dependent variables using the argument 'dependent'. \n",
    "# Our dependent variable is CO2 emissons per capital from transportation.\n",
    "# In argument 'unit.variable' we enter the column number or the column name \n",
    "# of the column that identifies the donor pool unit numbers. \n",
    "# The argument 'unit.names.variable' takes the column number or the column name \n",
    "# of the column that identifies the donor pool unit names.\n",
    "# The argument 'time.variable' takes the column number or the column name of the\n",
    "# column that represents time periods.\n",
    "# So far we haven't told the function which unit is our treatment unit. We can \n",
    "# do that using the argument 'treatment.identifier'. Unit 13 is Sweden. \n",
    "# The rest of the units are the control units. We define them using the argument\n",
    "# 'controls.identifier'. \n",
    "# 'time.optimize.ssr' defines the periods of the time interval over which we want\n",
    "# minimze the objective function. This is usually set at the pre-treatment time\n",
    "# interval. Finally, 'time.plot' is the argument that sets the time interval over\n",
    "# which the results of the analysis are to be plotted. This usually is both the\n",
    "# pre-treatment and post-treatment time intervals combined. \n",
    "dataprep.out <-\n",
    "    dataprep(foo = data,\n",
    "             predictors = c(\"predictor1\" , \"predictor2\" , \"predictor3\" ,\n",
    "                            \"predictor4\") ,\n",
    "             predictors.op = \"mean\" ,\n",
    "             time.predictors.prior = 1960:2010 ,\n",
    "             special.predictors = list(\n",
    "                 list(\"outcomevar\" , 2010 , \"mean\"),\n",
    "                 list(\"outcomevar\" , 2000 , \"mean\"),\n",
    "                 list(\"outcomevar\" , 1990 , \"mean\")\n",
    "             ),\n",
    "             dependent = \"outcomevar\",\n",
    "             unit.variable = \"countryno\",\n",
    "             unit.names.variable = \"country\",\n",
    "             time.variable = \"year\",\n",
    "             treatment.identifier = 13,\n",
    "             controls.identifier = c(1:12, 14:15),\n",
    "             time.optimize.ssr = 1960:2010,\n",
    "             time.plot = 1960:2020\n",
    "    )"
   ]
  },
  {
   "cell_type": "code",
   "execution_count": null,
   "metadata": {
    "vscode": {
     "languageId": "r"
    }
   },
   "outputs": [],
   "source": [
    "# The function synth() helps us find the weights using the algorithm we discussed.\n",
    "# We have to tell the function what our panel dataset is. \n",
    "synth.out <- synth(data.prep.obj = dataprep.out)\n",
    "\n",
    "# The weigts are stored in the output object. This is how we can retrieve \n",
    "# country weights in the synthetic Sweden.\n",
    "# We can see that Denmark has the highest weight.\n",
    "synth.tables <- synth.tab(dataprep.res = dataprep.out,\n",
    "                          synth.res = synth.out\n",
    ")\n",
    "synth.tables$tab.w[1:14, ]"
   ]
  },
  {
   "cell_type": "code",
   "execution_count": null,
   "metadata": {
    "vscode": {
     "languageId": "r"
    }
   },
   "outputs": [],
   "source": [
    "# We can also look at the pre-treatment mean of the covariates for \n",
    "# the synthetic Sweden and the treated unit. You can see that the values\n",
    "# are pretty similar indicating that the weights are well-calculated.\n",
    "synth.tables$tab.pred[1:7, ]"
   ]
  },
  {
   "cell_type": "code",
   "execution_count": null,
   "metadata": {
    "vscode": {
     "languageId": "r"
    }
   },
   "outputs": [],
   "source": [
    "# The package has a function for creating path plots based on the results.\n",
    "path.plot(synth.res = synth.out,\n",
    "          dataprep.res = dataprep.out,\n",
    "          Ylab = \"Outcome Variable\",\n",
    "          Xlab = \"Year\",\n",
    "          Ylim = c(0,3),\n",
    "          Legend = c(\"Country\",\"synthetic Country\"),\n",
    "          Legend.position = \"bottomright\"\n",
    ")"
   ]
  },
  {
   "cell_type": "code",
   "execution_count": null,
   "metadata": {
    "vscode": {
     "languageId": "r"
    }
   },
   "outputs": [],
   "source": [
    "# The function gap.plot() plots the gaps between the potential outcome of the \n",
    "# treated unit and the synthetic unit.\n",
    "gaps.plot(synth.res = synth.out,\n",
    "          dataprep.res = dataprep.out,\n",
    "          Ylab = \"outcome variable\",\n",
    "          Xlab = \"Year\",\n",
    "          Ylim = c(-0.5,0.5),\n",
    "          Main = NA\n",
    ")"
   ]
  },
  {
   "cell_type": "code",
   "execution_count": null,
   "metadata": {
    "vscode": {
     "languageId": "r"
    }
   },
   "outputs": [],
   "source": [
    "# In R, you can use the outcome of the synth() function from the package Synth\n",
    "# to calculate MSPE. Unfortunately, the package doesn't spit out MSPE automatically.\n",
    "# The line below, estimates the gap between the treated and the synthetic units\n",
    "gaps <- dataprep.out$Y1plot - (dataprep.out$Y0plot %*% synth.out$solution.w)\n",
    "\n",
    "# This calculates MSPE for the post-treatment period\n",
    "mspepost <- mean((gaps[31:46, 1])^2)\n",
    "\n",
    "# This calculates MSPE for the pre-treatment period\n",
    "mspepre <- mean((gaps[1:30, 1])^2)\n",
    "\n",
    "# Therefore, the ratio is simply:\n",
    "msperatio = mspepost/mspepre\n",
    "\n",
    "# You can use the code above in a for-loop in order to find the ratio for each\n",
    "# control unit in the donor pool."
   ]
  }
 ],
 "metadata": {
  "kernelspec": {
   "display_name": "R",
   "language": "R",
   "name": "ir"
  },
  "language_info": {
   "codemirror_mode": "r",
   "file_extension": ".r",
   "mimetype": "text/x-r-source",
   "name": "R",
   "pygments_lexer": "r",
   "version": "4.1.2"
  },
  "orig_nbformat": 4
 },
 "nbformat": 4,
 "nbformat_minor": 2
}
